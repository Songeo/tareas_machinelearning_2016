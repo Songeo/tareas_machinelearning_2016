{
 "cells": [
  {
   "cell_type": "markdown",
   "metadata": {},
   "source": [
    "\n",
    "# GAUSSIAN NAIVE BAYES \n",
    "\n",
    "## TAREA 2\n",
    "\n",
    "Sonia Mendizábal 105720\n",
    "\n",
    "26 de agosto de 2016"
   ]
  },
  {
   "cell_type": "code",
   "execution_count": 2,
   "metadata": {
    "collapsed": false
   },
   "outputs": [],
   "source": [
    "from sklearn.cross_validation import train_test_split\n",
    "from sklearn.naive_bayes import GaussianNB\n",
    "from sklearn.metrics import confusion_matrix\n",
    "import matplotlib.pyplot as plt\n",
    "import pandas as pda\n",
    "import numpy as np\n",
    "import scipy.stats\n",
    "%matplotlib inline"
   ]
  },
  {
   "cell_type": "code",
   "execution_count": 3,
   "metadata": {
    "collapsed": false
   },
   "outputs": [
    {
     "name": "stdout",
     "output_type": "stream",
     "text": [
      "0.394044772875\n"
     ]
    }
   ],
   "source": [
    "dat = pda.read_table(\"https://archive.ics.uci.edu/ml/machine-learning-databases/spambase/spambase.data\", \n",
    "                    sep=\",\", header=None)\n",
    "df = pda.DataFrame(dat)\n",
    "pspam = np.mean(dat[:][57])\n",
    "print pspam"
   ]
  },
  {
   "cell_type": "code",
   "execution_count": 118,
   "metadata": {
    "collapsed": false
   },
   "outputs": [
    {
     "data": {
      "text/html": [
       "<div>\n",
       "<table border=\"1\" class=\"dataframe\">\n",
       "  <thead>\n",
       "    <tr style=\"text-align: right;\">\n",
       "      <th></th>\n",
       "      <th>0</th>\n",
       "      <th>1</th>\n",
       "      <th>2</th>\n",
       "      <th>3</th>\n",
       "      <th>4</th>\n",
       "      <th>5</th>\n",
       "      <th>6</th>\n",
       "      <th>7</th>\n",
       "      <th>8</th>\n",
       "      <th>9</th>\n",
       "      <th>...</th>\n",
       "      <th>48</th>\n",
       "      <th>49</th>\n",
       "      <th>50</th>\n",
       "      <th>51</th>\n",
       "      <th>52</th>\n",
       "      <th>53</th>\n",
       "      <th>54</th>\n",
       "      <th>55</th>\n",
       "      <th>56</th>\n",
       "      <th>57</th>\n",
       "    </tr>\n",
       "  </thead>\n",
       "  <tbody>\n",
       "    <tr>\n",
       "      <th>705</th>\n",
       "      <td>0.00</td>\n",
       "      <td>0.00</td>\n",
       "      <td>0.00</td>\n",
       "      <td>0.0</td>\n",
       "      <td>0.00</td>\n",
       "      <td>0.00</td>\n",
       "      <td>4.00</td>\n",
       "      <td>0.00</td>\n",
       "      <td>0.00</td>\n",
       "      <td>0.00</td>\n",
       "      <td>...</td>\n",
       "      <td>0.0</td>\n",
       "      <td>0.000</td>\n",
       "      <td>0.000</td>\n",
       "      <td>0.000</td>\n",
       "      <td>0.000</td>\n",
       "      <td>0.000</td>\n",
       "      <td>8.166</td>\n",
       "      <td>19</td>\n",
       "      <td>49</td>\n",
       "      <td>1</td>\n",
       "    </tr>\n",
       "    <tr>\n",
       "      <th>2006</th>\n",
       "      <td>0.00</td>\n",
       "      <td>0.00</td>\n",
       "      <td>0.00</td>\n",
       "      <td>0.0</td>\n",
       "      <td>0.00</td>\n",
       "      <td>0.00</td>\n",
       "      <td>0.00</td>\n",
       "      <td>0.00</td>\n",
       "      <td>0.00</td>\n",
       "      <td>0.75</td>\n",
       "      <td>...</td>\n",
       "      <td>0.0</td>\n",
       "      <td>0.800</td>\n",
       "      <td>0.133</td>\n",
       "      <td>0.000</td>\n",
       "      <td>0.000</td>\n",
       "      <td>0.133</td>\n",
       "      <td>4.472</td>\n",
       "      <td>33</td>\n",
       "      <td>161</td>\n",
       "      <td>0</td>\n",
       "    </tr>\n",
       "    <tr>\n",
       "      <th>218</th>\n",
       "      <td>0.17</td>\n",
       "      <td>0.26</td>\n",
       "      <td>1.07</td>\n",
       "      <td>0.0</td>\n",
       "      <td>0.35</td>\n",
       "      <td>0.62</td>\n",
       "      <td>0.53</td>\n",
       "      <td>0.17</td>\n",
       "      <td>0.62</td>\n",
       "      <td>0.80</td>\n",
       "      <td>...</td>\n",
       "      <td>0.0</td>\n",
       "      <td>0.066</td>\n",
       "      <td>0.000</td>\n",
       "      <td>0.212</td>\n",
       "      <td>0.185</td>\n",
       "      <td>0.013</td>\n",
       "      <td>6.815</td>\n",
       "      <td>583</td>\n",
       "      <td>1329</td>\n",
       "      <td>1</td>\n",
       "    </tr>\n",
       "    <tr>\n",
       "      <th>1078</th>\n",
       "      <td>0.00</td>\n",
       "      <td>1.56</td>\n",
       "      <td>0.00</td>\n",
       "      <td>0.0</td>\n",
       "      <td>0.00</td>\n",
       "      <td>0.00</td>\n",
       "      <td>1.56</td>\n",
       "      <td>0.00</td>\n",
       "      <td>0.00</td>\n",
       "      <td>1.56</td>\n",
       "      <td>...</td>\n",
       "      <td>0.0</td>\n",
       "      <td>0.183</td>\n",
       "      <td>0.000</td>\n",
       "      <td>0.000</td>\n",
       "      <td>0.183</td>\n",
       "      <td>0.183</td>\n",
       "      <td>11.714</td>\n",
       "      <td>140</td>\n",
       "      <td>164</td>\n",
       "      <td>1</td>\n",
       "    </tr>\n",
       "    <tr>\n",
       "      <th>2136</th>\n",
       "      <td>0.00</td>\n",
       "      <td>0.00</td>\n",
       "      <td>0.00</td>\n",
       "      <td>0.0</td>\n",
       "      <td>0.00</td>\n",
       "      <td>0.00</td>\n",
       "      <td>0.00</td>\n",
       "      <td>0.00</td>\n",
       "      <td>0.00</td>\n",
       "      <td>1.01</td>\n",
       "      <td>...</td>\n",
       "      <td>0.0</td>\n",
       "      <td>0.000</td>\n",
       "      <td>0.312</td>\n",
       "      <td>0.000</td>\n",
       "      <td>0.000</td>\n",
       "      <td>0.000</td>\n",
       "      <td>4.030</td>\n",
       "      <td>28</td>\n",
       "      <td>133</td>\n",
       "      <td>0</td>\n",
       "    </tr>\n",
       "  </tbody>\n",
       "</table>\n",
       "<p>5 rows × 58 columns</p>\n",
       "</div>"
      ],
      "text/plain": [
       "        0     1     2    3     4     5     6     7     8     9  ...   48  \\\n",
       "705   0.00  0.00  0.00  0.0  0.00  0.00  4.00  0.00  0.00  0.00 ...  0.0   \n",
       "2006  0.00  0.00  0.00  0.0  0.00  0.00  0.00  0.00  0.00  0.75 ...  0.0   \n",
       "218   0.17  0.26  1.07  0.0  0.35  0.62  0.53  0.17  0.62  0.80 ...  0.0   \n",
       "1078  0.00  1.56  0.00  0.0  0.00  0.00  1.56  0.00  0.00  1.56 ...  0.0   \n",
       "2136  0.00  0.00  0.00  0.0  0.00  0.00  0.00  0.00  0.00  1.01 ...  0.0   \n",
       "\n",
       "         49     50     51     52     53      54   55    56  57  \n",
       "705   0.000  0.000  0.000  0.000  0.000   8.166   19    49   1  \n",
       "2006  0.800  0.133  0.000  0.000  0.133   4.472   33   161   0  \n",
       "218   0.066  0.000  0.212  0.185  0.013   6.815  583  1329   1  \n",
       "1078  0.183  0.000  0.000  0.183  0.183  11.714  140   164   1  \n",
       "2136  0.000  0.312  0.000  0.000  0.000   4.030   28   133   0  \n",
       "\n",
       "[5 rows x 58 columns]"
      ]
     },
     "execution_count": 118,
     "metadata": {},
     "output_type": "execute_result"
    }
   ],
   "source": [
    "X_train, X_test = train_test_split(df, train_size=0.75)\n",
    "dftrain = pda.DataFrame(X_train)\n",
    "dftest = pda.DataFrame(X_test)\n",
    "dftrain.head()"
   ]
  },
  {
   "cell_type": "code",
   "execution_count": 22,
   "metadata": {
    "collapsed": false
   },
   "outputs": [],
   "source": [
    "tabm0 = np.mean(dftrain[dftrain[57] == 0])[:57]\n",
    "tabs0 = np.std(dftrain[dftrain[57] == 0])[:57]\n",
    "tabm1 = np.mean(dftrain[dftrain[57] == 1])[:57]\n",
    "tabs1 = np.std(dftrain[dftrain[57] == 1])[:57]\n",
    "tabms = pda.DataFrame({'mean 0' : tabm0,\n",
    "              'std 0' : tabs0, \n",
    "              'mean 1' : tabm1, \n",
    "              'std 1' :tabs1})"
   ]
  },
  {
   "cell_type": "code",
   "execution_count": 48,
   "metadata": {
    "collapsed": false
   },
   "outputs": [
    {
     "data": {
      "text/html": [
       "<div>\n",
       "<table border=\"1\" class=\"dataframe\">\n",
       "  <thead>\n",
       "    <tr style=\"text-align: right;\">\n",
       "      <th></th>\n",
       "      <th>mean 0</th>\n",
       "      <th>mean 1</th>\n",
       "      <th>std 0</th>\n",
       "      <th>std 1</th>\n",
       "    </tr>\n",
       "  </thead>\n",
       "  <tbody>\n",
       "    <tr>\n",
       "      <th>0</th>\n",
       "      <td>0.072944</td>\n",
       "      <td>0.146754</td>\n",
       "      <td>0.295664</td>\n",
       "      <td>0.308770</td>\n",
       "    </tr>\n",
       "    <tr>\n",
       "      <th>1</th>\n",
       "      <td>0.224655</td>\n",
       "      <td>0.163853</td>\n",
       "      <td>1.526013</td>\n",
       "      <td>0.360494</td>\n",
       "    </tr>\n",
       "    <tr>\n",
       "      <th>2</th>\n",
       "      <td>0.198001</td>\n",
       "      <td>0.397024</td>\n",
       "      <td>0.504149</td>\n",
       "      <td>0.476395</td>\n",
       "    </tr>\n",
       "    <tr>\n",
       "      <th>3</th>\n",
       "      <td>0.000855</td>\n",
       "      <td>0.199235</td>\n",
       "      <td>0.022897</td>\n",
       "      <td>2.521261</td>\n",
       "    </tr>\n",
       "    <tr>\n",
       "      <th>4</th>\n",
       "      <td>0.183511</td>\n",
       "      <td>0.522691</td>\n",
       "      <td>0.647309</td>\n",
       "      <td>0.726526</td>\n",
       "    </tr>\n",
       "  </tbody>\n",
       "</table>\n",
       "</div>"
      ],
      "text/plain": [
       "     mean 0    mean 1     std 0     std 1\n",
       "0  0.072944  0.146754  0.295664  0.308770\n",
       "1  0.224655  0.163853  1.526013  0.360494\n",
       "2  0.198001  0.397024  0.504149  0.476395\n",
       "3  0.000855  0.199235  0.022897  2.521261\n",
       "4  0.183511  0.522691  0.647309  0.726526"
      ]
     },
     "execution_count": 48,
     "metadata": {},
     "output_type": "execute_result"
    }
   ],
   "source": [
    "tabms.head()"
   ]
  },
  {
   "cell_type": "code",
   "execution_count": null,
   "metadata": {
    "collapsed": true
   },
   "outputs": [],
   "source": []
  },
  {
   "cell_type": "code",
   "execution_count": 119,
   "metadata": {
    "collapsed": false
   },
   "outputs": [],
   "source": [
    "def CeroTransf(sdvec):\n",
    "    sdveccor = []\n",
    "    for x in sdvec: \n",
    "        if x == 0: \n",
    "            sdveccor.append(x + .0000001)\n",
    "        else:\n",
    "            sdveccor.append(x)\n",
    "    return(sdveccor)\n",
    "\n",
    "def NaiveBayesRow(vec):\n",
    "    \n",
    "    normvecnspam = scipy.stats.norm(tabms[:][tabms.columns[0]],\n",
    "                 CeroTransf(tabms[:]['std 0'] )\n",
    "                ).pdf(vec) \n",
    "    normvecspam = scipy.stats.norm(tabms[:][tabms.columns[1]],\n",
    "                 CeroTransf(tabms[:]['std 1'] )\n",
    "                ).pdf(vec) \n",
    "        \n",
    "    transpam = np.log(pspam) + np.sum(np.log(normvecspam))\n",
    "    trannspam = np.log(1-pspam) + np.sum(np.log(normvecnspam))\n",
    "    transmaximo = np.maximum(transpam, trannspam)\n",
    "    #if transpam == transmaximo:\n",
    "    if transpam >= trannspam:\n",
    "        res = 1\n",
    "    else:\n",
    "        res = 0\n",
    "    return(res)\n",
    "\n",
    "def NaiveBayes(tabla):\n",
    "    resl = []\n",
    "    for i in range(len(tabla.index)):\n",
    "        vec = tabla[i-1:i][tabla.columns[:57]]\n",
    "        resl.append(NaiveBayesRow(vec))\n",
    "    return(resl)"
   ]
  },
  {
   "cell_type": "code",
   "execution_count": 120,
   "metadata": {
    "collapsed": false
   },
   "outputs": [],
   "source": [
    "prediccion = NaiveBayes(dftrain)"
   ]
  },
  {
   "cell_type": "code",
   "execution_count": 121,
   "metadata": {
    "collapsed": false
   },
   "outputs": [
    {
     "data": {
      "text/plain": [
       "50"
      ]
     },
     "execution_count": 121,
     "metadata": {},
     "output_type": "execute_result"
    }
   ],
   "source": [
    "100*np.sum(prediccion == dftrain[dftrain.columns[57]])/len(prediccion)"
   ]
  },
  {
   "cell_type": "code",
   "execution_count": 122,
   "metadata": {
    "collapsed": false
   },
   "outputs": [
    {
     "data": {
      "text/plain": [
       "array([[ 980, 1115],\n",
       "       [ 596,  759]])"
      ]
     },
     "execution_count": 122,
     "metadata": {},
     "output_type": "execute_result"
    }
   ],
   "source": [
    "confusion_matrix(dftrain[dftrain.columns[57]], prediccion)"
   ]
  },
  {
   "cell_type": "code",
   "execution_count": 123,
   "metadata": {
    "collapsed": false
   },
   "outputs": [],
   "source": [
    "predicciontest = NaiveBayes(dftest)"
   ]
  },
  {
   "cell_type": "code",
   "execution_count": 124,
   "metadata": {
    "collapsed": false
   },
   "outputs": [
    {
     "data": {
      "text/plain": [
       "48"
      ]
     },
     "execution_count": 124,
     "metadata": {},
     "output_type": "execute_result"
    }
   ],
   "source": [
    "100*np.sum(predicciontest == dftest[dftest.columns[57]])/len(predicciontest)"
   ]
  },
  {
   "cell_type": "code",
   "execution_count": 125,
   "metadata": {
    "collapsed": false
   },
   "outputs": [
    {
     "data": {
      "text/plain": [
       "array([[318, 375],\n",
       "       [218, 240]])"
      ]
     },
     "execution_count": 125,
     "metadata": {},
     "output_type": "execute_result"
    }
   ],
   "source": [
    "confusion_matrix(dftest[dftest.columns[57]], predicciontest)"
   ]
  },
  {
   "cell_type": "markdown",
   "metadata": {},
   "source": [
    "### Prueba con Función de SKLearn"
   ]
  },
  {
   "cell_type": "code",
   "execution_count": 126,
   "metadata": {
    "collapsed": false
   },
   "outputs": [],
   "source": [
    "clf = GaussianNB()\n",
    "clf.fit(dftrain[dftrain.columns[:57]], dftrain[dftrain.columns[57]])\n",
    "prediccionsktrain = clf.predict(dftrain[dftrain.columns[:57]])\n",
    "prediccionsktest = clf.predict(dftest[dftest.columns[:57]])"
   ]
  },
  {
   "cell_type": "code",
   "execution_count": 127,
   "metadata": {
    "collapsed": false
   },
   "outputs": [
    {
     "data": {
      "text/plain": [
       "82"
      ]
     },
     "execution_count": 127,
     "metadata": {},
     "output_type": "execute_result"
    }
   ],
   "source": [
    "sum(prediccionsktrain == dftrain[dftrain.columns[57]])*100/len(prediccionsktrain)"
   ]
  },
  {
   "cell_type": "code",
   "execution_count": 128,
   "metadata": {
    "collapsed": false
   },
   "outputs": [
    {
     "data": {
      "text/plain": [
       "array([[1533,  562],\n",
       "       [  52, 1303]])"
      ]
     },
     "execution_count": 128,
     "metadata": {},
     "output_type": "execute_result"
    }
   ],
   "source": [
    "confusion_matrix(dftrain[dftrain.columns[57]], prediccionsktrain)"
   ]
  },
  {
   "cell_type": "code",
   "execution_count": 129,
   "metadata": {
    "collapsed": false
   },
   "outputs": [
    {
     "data": {
      "text/plain": [
       "83"
      ]
     },
     "execution_count": 129,
     "metadata": {},
     "output_type": "execute_result"
    }
   ],
   "source": [
    "sum(prediccionsktest == dftest[dftest.columns[57]])*100/len(prediccionsktest)"
   ]
  },
  {
   "cell_type": "code",
   "execution_count": 130,
   "metadata": {
    "collapsed": false
   },
   "outputs": [
    {
     "data": {
      "text/plain": [
       "array([[520, 173],\n",
       "       [ 19, 439]])"
      ]
     },
     "execution_count": 130,
     "metadata": {},
     "output_type": "execute_result"
    }
   ],
   "source": [
    " confusion_matrix(dftest[dftest.columns[57]], prediccionsktest)"
   ]
  },
  {
   "cell_type": "code",
   "execution_count": null,
   "metadata": {
    "collapsed": true
   },
   "outputs": [],
   "source": []
  }
 ],
 "metadata": {
  "kernelspec": {
   "display_name": "Python [default]",
   "language": "python",
   "name": "python2"
  },
  "language_info": {
   "codemirror_mode": {
    "name": "ipython",
    "version": 2
   },
   "file_extension": ".py",
   "mimetype": "text/x-python",
   "name": "python",
   "nbconvert_exporter": "python",
   "pygments_lexer": "ipython2",
   "version": "2.7.12"
  }
 },
 "nbformat": 4,
 "nbformat_minor": 0
}
