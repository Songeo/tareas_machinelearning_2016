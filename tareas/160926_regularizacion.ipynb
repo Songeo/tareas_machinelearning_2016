{
 "cells": [
  {
   "cell_type": "markdown",
   "metadata": {},
   "source": [
    "# Regularización\n",
    "---\n",
    "### Regresión Lineal\n",
    "22 de septiembre de 2016"
   ]
  },
  {
   "cell_type": "code",
   "execution_count": 50,
   "metadata": {
    "collapsed": false
   },
   "outputs": [],
   "source": [
    "from sklearn.cross_validation import train_test_split\n",
    "from sklearn import preprocessing\n",
    "from random import random,randint,seed,sample\n",
    "import matplotlib.pyplot as plt\n",
    "import pandas as pda\n",
    "import numpy as np\n",
    "%matplotlib inline\n",
    "from __future__ import division\n",
    "seed(20160918)"
   ]
  },
  {
   "cell_type": "code",
   "execution_count": 51,
   "metadata": {
    "collapsed": false
   },
   "outputs": [
    {
     "data": {
      "text/html": [
       "<div>\n",
       "<table border=\"1\" class=\"dataframe\">\n",
       "  <thead>\n",
       "    <tr style=\"text-align: right;\">\n",
       "      <th></th>\n",
       "      <th>X</th>\n",
       "      <th>X2</th>\n",
       "      <th>X3</th>\n",
       "      <th>X4</th>\n",
       "      <th>X5</th>\n",
       "      <th>y</th>\n",
       "    </tr>\n",
       "  </thead>\n",
       "  <tbody>\n",
       "    <tr>\n",
       "      <th>0</th>\n",
       "      <td>7.317938</td>\n",
       "      <td>53.552216</td>\n",
       "      <td>0.864389</td>\n",
       "      <td>0.859736</td>\n",
       "      <td>114</td>\n",
       "      <td>50.552216</td>\n",
       "    </tr>\n",
       "    <tr>\n",
       "      <th>1</th>\n",
       "      <td>1.284357</td>\n",
       "      <td>1.649574</td>\n",
       "      <td>0.108686</td>\n",
       "      <td>0.959256</td>\n",
       "      <td>115</td>\n",
       "      <td>2.649574</td>\n",
       "    </tr>\n",
       "    <tr>\n",
       "      <th>2</th>\n",
       "      <td>97.740652</td>\n",
       "      <td>9553.235089</td>\n",
       "      <td>1.990075</td>\n",
       "      <td>-0.344100</td>\n",
       "      <td>116</td>\n",
       "      <td>9643.235089</td>\n",
       "    </tr>\n",
       "    <tr>\n",
       "      <th>3</th>\n",
       "      <td>17.753591</td>\n",
       "      <td>315.190006</td>\n",
       "      <td>1.249286</td>\n",
       "      <td>-0.889370</td>\n",
       "      <td>117</td>\n",
       "      <td>310.190006</td>\n",
       "    </tr>\n",
       "  </tbody>\n",
       "</table>\n",
       "</div>"
      ],
      "text/plain": [
       "           X           X2        X3        X4   X5            y\n",
       "0   7.317938    53.552216  0.864389  0.859736  114    50.552216\n",
       "1   1.284357     1.649574  0.108686  0.959256  115     2.649574\n",
       "2  97.740652  9553.235089  1.990075 -0.344100  116  9643.235089\n",
       "3  17.753591   315.190006  1.249286 -0.889370  117   310.190006"
      ]
     },
     "execution_count": 51,
     "metadata": {},
     "output_type": "execute_result"
    }
   ],
   "source": [
    "df1 = pda.read_table(\"../datos_clase/regLinPoli.csv\", sep=\",\", header = 0)\n",
    "df1[:4]"
   ]
  },
  {
   "cell_type": "code",
   "execution_count": 52,
   "metadata": {
    "collapsed": false
   },
   "outputs": [],
   "source": [
    "y1 = df1[:][df1.columns[5]]\n",
    "x1 = df1[:][df1.columns[0:5]]"
   ]
  },
  {
   "cell_type": "code",
   "execution_count": 53,
   "metadata": {
    "collapsed": false
   },
   "outputs": [
    {
     "data": {
      "text/html": [
       "<div>\n",
       "<table border=\"1\" class=\"dataframe\">\n",
       "  <thead>\n",
       "    <tr style=\"text-align: right;\">\n",
       "      <th></th>\n",
       "      <th>X</th>\n",
       "      <th>X2</th>\n",
       "      <th>X3</th>\n",
       "      <th>X4</th>\n",
       "      <th>X5</th>\n",
       "    </tr>\n",
       "  </thead>\n",
       "  <tbody>\n",
       "    <tr>\n",
       "      <th>0</th>\n",
       "      <td>7.317938</td>\n",
       "      <td>53.552216</td>\n",
       "      <td>0.864389</td>\n",
       "      <td>0.859736</td>\n",
       "      <td>114</td>\n",
       "    </tr>\n",
       "    <tr>\n",
       "      <th>1</th>\n",
       "      <td>1.284357</td>\n",
       "      <td>1.649574</td>\n",
       "      <td>0.108686</td>\n",
       "      <td>0.959256</td>\n",
       "      <td>115</td>\n",
       "    </tr>\n",
       "    <tr>\n",
       "      <th>2</th>\n",
       "      <td>97.740652</td>\n",
       "      <td>9553.235089</td>\n",
       "      <td>1.990075</td>\n",
       "      <td>-0.344100</td>\n",
       "      <td>116</td>\n",
       "    </tr>\n",
       "    <tr>\n",
       "      <th>3</th>\n",
       "      <td>17.753591</td>\n",
       "      <td>315.190006</td>\n",
       "      <td>1.249286</td>\n",
       "      <td>-0.889370</td>\n",
       "      <td>117</td>\n",
       "    </tr>\n",
       "  </tbody>\n",
       "</table>\n",
       "</div>"
      ],
      "text/plain": [
       "           X           X2        X3        X4   X5\n",
       "0   7.317938    53.552216  0.864389  0.859736  114\n",
       "1   1.284357     1.649574  0.108686  0.959256  115\n",
       "2  97.740652  9553.235089  1.990075 -0.344100  116\n",
       "3  17.753591   315.190006  1.249286 -0.889370  117"
      ]
     },
     "execution_count": 53,
     "metadata": {},
     "output_type": "execute_result"
    }
   ],
   "source": [
    "x1[:4]"
   ]
  },
  {
   "cell_type": "markdown",
   "metadata": {},
   "source": [
    "Normalización de variables independientes"
   ]
  },
  {
   "cell_type": "code",
   "execution_count": 54,
   "metadata": {
    "collapsed": false
   },
   "outputs": [
    {
     "data": {
      "text/html": [
       "<div>\n",
       "<table border=\"1\" class=\"dataframe\">\n",
       "  <thead>\n",
       "    <tr style=\"text-align: right;\">\n",
       "      <th></th>\n",
       "      <th>0</th>\n",
       "      <th>1</th>\n",
       "      <th>2</th>\n",
       "      <th>3</th>\n",
       "      <th>4</th>\n",
       "    </tr>\n",
       "  </thead>\n",
       "  <tbody>\n",
       "    <tr>\n",
       "      <th>0</th>\n",
       "      <td>-1.436023</td>\n",
       "      <td>-1.058662</td>\n",
       "      <td>-1.499078</td>\n",
       "      <td>1.215328</td>\n",
       "      <td>-1.730368</td>\n",
       "    </tr>\n",
       "    <tr>\n",
       "      <th>1</th>\n",
       "      <td>-1.648727</td>\n",
       "      <td>-1.076618</td>\n",
       "      <td>-3.170418</td>\n",
       "      <td>1.354193</td>\n",
       "      <td>-1.727002</td>\n",
       "    </tr>\n",
       "    <tr>\n",
       "      <th>2</th>\n",
       "      <td>1.751675</td>\n",
       "      <td>2.227799</td>\n",
       "      <td>0.990531</td>\n",
       "      <td>-0.464441</td>\n",
       "      <td>-1.723635</td>\n",
       "    </tr>\n",
       "    <tr>\n",
       "      <th>3</th>\n",
       "      <td>-1.068132</td>\n",
       "      <td>-0.968147</td>\n",
       "      <td>-0.647824</td>\n",
       "      <td>-1.225282</td>\n",
       "      <td>-1.720269</td>\n",
       "    </tr>\n",
       "  </tbody>\n",
       "</table>\n",
       "</div>"
      ],
      "text/plain": [
       "          0         1         2         3         4\n",
       "0 -1.436023 -1.058662 -1.499078  1.215328 -1.730368\n",
       "1 -1.648727 -1.076618 -3.170418  1.354193 -1.727002\n",
       "2  1.751675  2.227799  0.990531 -0.464441 -1.723635\n",
       "3 -1.068132 -0.968147 -0.647824 -1.225282 -1.720269"
      ]
     },
     "execution_count": 54,
     "metadata": {},
     "output_type": "execute_result"
    }
   ],
   "source": [
    "scalerx = preprocessing.StandardScaler().fit(x1)\n",
    "x1_c = pda.DataFrame(scalerx.transform(x1))\n",
    "x1_c[:4]"
   ]
  },
  {
   "cell_type": "code",
   "execution_count": 55,
   "metadata": {
    "collapsed": false
   },
   "outputs": [
    {
     "data": {
      "text/plain": [
       "0   -0.000366\n",
       "1   -0.000372\n",
       "2    0.000781\n",
       "3   -0.000335\n",
       "Name: y, dtype: float64"
      ]
     },
     "execution_count": 55,
     "metadata": {},
     "output_type": "execute_result"
    }
   ],
   "source": [
    "y1_c = (y1 - np.mean(y1))/np.var(y1)\n",
    "y1_c[:4]"
   ]
  },
  {
   "cell_type": "code",
   "execution_count": 56,
   "metadata": {
    "collapsed": false
   },
   "outputs": [],
   "source": [
    "x1_train, x1_test, y1_train, y1_test = train_test_split(x1_c, y1_c, train_size=0.75)"
   ]
  },
  {
   "cell_type": "code",
   "execution_count": 57,
   "metadata": {
    "collapsed": false
   },
   "outputs": [
    {
     "name": "stdout",
     "output_type": "stream",
     "text": [
      "771\n",
      "771\n"
     ]
    }
   ],
   "source": [
    "print len(x1_train)\n",
    "print len(y1_train)"
   ]
  },
  {
   "cell_type": "code",
   "execution_count": 58,
   "metadata": {
    "collapsed": false
   },
   "outputs": [
    {
     "name": "stdout",
     "output_type": "stream",
     "text": [
      "258\n",
      "258\n"
     ]
    }
   ],
   "source": [
    "print len(x1_test)\n",
    "print len(y1_test)"
   ]
  },
  {
   "cell_type": "code",
   "execution_count": null,
   "metadata": {
    "collapsed": true
   },
   "outputs": [],
   "source": []
  },
  {
   "cell_type": "markdown",
   "metadata": {},
   "source": [
    "Función de regularización"
   ]
  },
  {
   "cell_type": "code",
   "execution_count": 59,
   "metadata": {
    "collapsed": true
   },
   "outputs": [],
   "source": [
    "def WsLinRegrRegular(wsinit, nu, lmbd, yvec, xmat):\n",
    "    ws = np.asarray(wsinit)\n",
    "\n",
    "    for reng in range(len(yvec)):\n",
    "        # reng = 0\n",
    "        xobsreng = np.asarray(xmat)[reng]\n",
    "        yobsreng = np.asarray(yvec)[reng]\n",
    "        # costo\n",
    "        vx = ws[0] + np.sum(xobsreng*np.asarray(ws[1:]))\n",
    "        error = (yobsreng - vx)\n",
    "        # actualización de ws\n",
    "        ws[0] = ws[0] + nu*error*1 - lmbd*(ws[0])\n",
    "        for i in range(len(ws)-1):\n",
    "            ws[i+1] = ws[i+1] + nu*error*xobsreng[i] - lmbd*(ws[i+1])\n",
    "    return ws"
   ]
  },
  {
   "cell_type": "code",
   "execution_count": 76,
   "metadata": {
    "collapsed": true
   },
   "outputs": [],
   "source": [
    "def MseEst(wsact, xmat, yvec, lmbd):\n",
    "    yfit = wsact[0] + np.dot(np.asarray(xmat), wsact[1:])\n",
    "    mse = np.mean((yvec - yfit)**2) #+ sum(lmbd*(wsact)**2)\n",
    "    return mse"
   ]
  },
  {
   "cell_type": "code",
   "execution_count": 77,
   "metadata": {
    "collapsed": false
   },
   "outputs": [],
   "source": [
    "def EstLambda(yvec, xmat):\n",
    "    mselist = []\n",
    "    lmbdavals = np.linspace(0, .05, 50)\n",
    "    wslist = []\n",
    "    for val in range(len( lmbdavals )):\n",
    "        wsf = WsLinRegrRegular(\n",
    "            wsinit = [1.0, 1.0, 1.0, 1.0, 1.0, 1.0], \n",
    "            nu = .1, lmbd = lmbdavals[val],\n",
    "            yvec = yvec, xmat = xmat)\n",
    "        mseval = MseEst(wsact = wsf, xmat = xmat, yvec = yvec, lmbd = val)\n",
    "        mselist.append(mseval)\n",
    "        wslist.append(wsf)\n",
    "            \n",
    "    plt.plot(lmbdavals, mselist)\n",
    "    \n",
    "    return(lmbdavals, mselist, wslist)"
   ]
  },
  {
   "cell_type": "code",
   "execution_count": null,
   "metadata": {
    "collapsed": true
   },
   "outputs": [],
   "source": []
  },
  {
   "cell_type": "code",
   "execution_count": 78,
   "metadata": {
    "collapsed": false
   },
   "outputs": [
    {
     "data": {
      "image/png": "[encoded data removed]",
      "text/plain": [
       "<matplotlib.figure.Figure at 0x119966110>"
      ]
     },
     "metadata": {},
     "output_type": "display_data"
    }
   ],
   "source": [
    "res_tra = EstLambda(yvec = y1_train, xmat = x1_train)"
   ]
  },
  {
   "cell_type": "code",
   "execution_count": null,
   "metadata": {
    "collapsed": true
   },
   "outputs": [],
   "source": []
  },
  {
   "cell_type": "code",
   "execution_count": 63,
   "metadata": {
    "collapsed": false
   },
   "outputs": [],
   "source": [
    "mse_test = []\n",
    "for i in range(len(res_tra[1])):\n",
    "    msecalc = MseEst(wsact = res_tra[2][i], \n",
    "                     xmat = x1_test, yvec = y1_test, \n",
    "                     lmbd = res_tra[0][i])\n",
    "    mse_test.append(msecalc)"
   ]
  },
  {
   "cell_type": "code",
   "execution_count": 64,
   "metadata": {
    "collapsed": false
   },
   "outputs": [
    {
     "data": {
      "text/plain": [
       "[<matplotlib.lines.Line2D at 0x119fe1610>]"
      ]
     },
     "execution_count": 64,
     "metadata": {},
     "output_type": "execute_result"
    },
    {
     "data": {
      "image/png": "[encoded data removed]",
      "text/plain": [
       "<matplotlib.figure.Figure at 0x11a33b910>"
      ]
     },
     "metadata": {},
     "output_type": "display_data"
    }
   ],
   "source": [
    "plt.plot(res_tra[0], mse_test)"
   ]
  },
  {
   "cell_type": "code",
   "execution_count": null,
   "metadata": {
    "collapsed": true
   },
   "outputs": [],
   "source": []
  },
  {
   "cell_type": "code",
   "execution_count": null,
   "metadata": {
    "collapsed": true
   },
   "outputs": [],
   "source": []
  }
 ],
 "metadata": {
  "anaconda-cloud": {},
  "kernelspec": {
   "display_name": "Python 2",
   "language": "python",
   "name": "python2"
  },
  "language_info": {
   "codemirror_mode": {
    "name": "ipython",
    "version": 2
   },
   "file_extension": ".py",
   "mimetype": "text/x-python",
   "name": "python",
   "nbconvert_exporter": "python",
   "pygments_lexer": "ipython2",
   "version": "2.7.12"
  }
 },
 "nbformat": 4,
 "nbformat_minor": 0
}
