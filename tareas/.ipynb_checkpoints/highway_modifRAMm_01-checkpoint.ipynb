{
 "cells": [
  {
   "cell_type": "markdown",
   "metadata": {},
   "source": [
    "# Highway: Redes Neuronales \n",
    "\n",
    "---\n",
    "\n",
    "27 de octubre de 2016"
   ]
  },
  {
   "cell_type": "code",
   "execution_count": 1,
   "metadata": {
    "collapsed": true
   },
   "outputs": [],
   "source": [
    "import pandas as pd\n",
    "import numpy as np\n",
    "import csv\n",
    "import random\n",
    "import matplotlib.pyplot as plt\n",
    "%matplotlib inline\n",
    "import tensorflow as tf"
   ]
  },
  {
   "cell_type": "code",
   "execution_count": null,
   "metadata": {
    "collapsed": false
   },
   "outputs": [],
   "source": [
    "dia = csv.excel()\n",
    "df = pd.read_csv(\"../datos_clase/carretera4.csv\")"
   ]
  },
  {
   "cell_type": "code",
   "execution_count": 4,
   "metadata": {
    "collapsed": false
   },
   "outputs": [
    {
     "data": {
      "text/html": [
       "<div>\n",
       "<table border=\"1\" class=\"dataframe\">\n",
       "  <thead>\n",
       "    <tr style=\"text-align: right;\">\n",
       "      <th></th>\n",
       "      <th>1</th>\n",
       "      <th>0</th>\n",
       "      <th>0.1</th>\n",
       "      <th>0.2</th>\n",
       "      <th>0.3</th>\n",
       "      <th>1.1</th>\n",
       "    </tr>\n",
       "  </thead>\n",
       "  <tbody>\n",
       "    <tr>\n",
       "      <th>0</th>\n",
       "      <td>1</td>\n",
       "      <td>1</td>\n",
       "      <td>1</td>\n",
       "      <td>0</td>\n",
       "      <td>0</td>\n",
       "      <td>1</td>\n",
       "    </tr>\n",
       "    <tr>\n",
       "      <th>1</th>\n",
       "      <td>1</td>\n",
       "      <td>0</td>\n",
       "      <td>0</td>\n",
       "      <td>0</td>\n",
       "      <td>1</td>\n",
       "      <td>1</td>\n",
       "    </tr>\n",
       "    <tr>\n",
       "      <th>2</th>\n",
       "      <td>1</td>\n",
       "      <td>1</td>\n",
       "      <td>0</td>\n",
       "      <td>1</td>\n",
       "      <td>0</td>\n",
       "      <td>1</td>\n",
       "    </tr>\n",
       "    <tr>\n",
       "      <th>3</th>\n",
       "      <td>1</td>\n",
       "      <td>0</td>\n",
       "      <td>0</td>\n",
       "      <td>0</td>\n",
       "      <td>0</td>\n",
       "      <td>1</td>\n",
       "    </tr>\n",
       "    <tr>\n",
       "      <th>4</th>\n",
       "      <td>1</td>\n",
       "      <td>1</td>\n",
       "      <td>1</td>\n",
       "      <td>0</td>\n",
       "      <td>1</td>\n",
       "      <td>1</td>\n",
       "    </tr>\n",
       "  </tbody>\n",
       "</table>\n",
       "</div>"
      ],
      "text/plain": [
       "   1  0  0.1  0.2  0.3  1.1\n",
       "0  1  1    1    0    0    1\n",
       "1  1  0    0    0    1    1\n",
       "2  1  1    0    1    0    1\n",
       "3  1  0    0    0    0    1\n",
       "4  1  1    1    0    1    1"
      ]
     },
     "execution_count": 4,
     "metadata": {},
     "output_type": "execute_result"
    }
   ],
   "source": [
    "df.head()"
   ]
  },
  {
   "cell_type": "code",
   "execution_count": 5,
   "metadata": {
    "collapsed": true
   },
   "outputs": [],
   "source": [
    "class HighwaySimulator:\n",
    "\t\"\"\"This class keeps track of the state of the world and is able to sense it\"\"\"\n",
    "\tMAXCRASHES=1000\n",
    "\tdef __init__(self,world,grafica=True):\n",
    "\t\tself.world=world\n",
    "\t\tself.positionY=0\n",
    "\t\tself.positionX=random.randint(1,len(world.columns)-2)\n",
    "\t\tself.trayectoriaX=[self.positionX]\n",
    "\t\tself.trayectoriaY=[self.positionY]\n",
    "\t\tself.crashes=0\n",
    "\t\tself.steps=0\n",
    "\t\tself.out=False\n",
    "\t\tself.graficar=grafica\n",
    "\t\t#graficar\n",
    "\t\tif grafica:\n",
    "\t\t\tl=[(j,world.ix[i,j]*i) for i in range(len(world.index)) for j in range(len(world.columns)) ]\n",
    "\t\t\tl=zip(*l)\n",
    "\t\t\tplt.scatter(l[0],l[1])\n",
    "\t\t\n",
    "\t#returns the values (for now noiseless of the Moore neighborhood) from left to right, top to bottom \n",
    "\tdef sensor(self):\n",
    "\t\toutput=[]\n",
    "\t\tpositionY=self.positionY\n",
    "\t\tpositionX=self.positionX\n",
    "\t\tworld=self.world\n",
    "\t\tif positionY==0:\n",
    "\t\t\toutput= output + [1,1,1] #behind limit\n",
    "\t\telse:\n",
    "\t\t\toutput=output + [df.ix[positionY-1,positionX-1],df.ix[positionY-1,positionX],df.ix[positionY-1,positionX+1] ] #behind\n",
    "\t\toutput=output + [df.ix[positionY,positionX-1],df.ix[positionY,positionX],df.ix[positionY,positionX+1] ] #sides\n",
    "\t\tif positionY==len(world.index)-1: #front boundary\n",
    "\t\t\toutput= output + [1,1,1]\n",
    "\t\telse:\n",
    "\t\t\toutput=output + [df.ix[positionY+1,positionX-1],df.ix[positionY+1,positionX],df.ix[positionY+1,positionX+1] ] #front\n",
    "\t\treturn output\n",
    "\t\t\n",
    "\t###Set an arbitrary position\n",
    "\tdef setPosition(self,x,y):\n",
    "\t\tworld=self.world\n",
    "\t\tif x<=1:\n",
    "\t\t\tself.positionX=1\n",
    "\t\telse:\n",
    "\t\t\tif x >= len(world.columns) -2:\n",
    "\t\t\t\tself.positionX=len(world.columns) -2\n",
    "\t\t\telse:\n",
    "\t\t\t\tself.positionX=x\n",
    "\t\t\n",
    "\t\tif y<=0:\n",
    "\t\t\tself.positionY=0\n",
    "\t\telse:\n",
    "\t\t\tif y >= len(world.index) -1:\n",
    "\t\t\t\tself.positionY=len(world.index) -1\n",
    "\t\t\telse:\n",
    "\t\t\t\tself.positionY=y\n",
    "\t\n",
    "\tdef checkPosition(self,x,y):\n",
    "\t\tworld=self.world\n",
    "\t\tif x<1:\n",
    "\t\t\treturn 0\n",
    "\t\t\n",
    "\t\tif x > len(world.columns) -2:\n",
    "\t\t\treturn 0\n",
    "\t\t\t\t\n",
    "\t\tif y<0:\n",
    "\t\t\treturn 1\n",
    "\t\t\n",
    "\t\tif y >= len(world.index) -1:\n",
    "\t\t\treturn 2\n",
    "\t\tif world.ix[y,x]==0:\n",
    "\t\t\treturn 3\n",
    "\t\telse:\n",
    "\t\t\treturn 0\n",
    "\t###Move\n",
    "\tdef move(self,m):\n",
    "\t\tif self.out:\n",
    "\t\t\tprint \"You are already out\"\n",
    "\t\t\treturn\n",
    "\t\tif self.crashes >= self.MAXCRASHES:\n",
    "\t\t\tprint \"Too many accidents!!!!\"\n",
    "\t\t\treturn\n",
    "\t\tif m=='F':\n",
    "\t\t\tres=self.checkPosition(self.positionX,self.positionY+1)\n",
    "\t\t\tif res==3:\n",
    "\t\t\t\tself.positionY=self.positionY+1\n",
    "\t\t\telif res==2:\n",
    "\t\t\t\tprint 'You are out, congratulations!!'\n",
    "\t\t\t\tself.out=True\n",
    "\t\t\telse:\n",
    "\t\t\t\tprint \"Crash\"\n",
    "\t\t\t\tself.crashes=self.crashes+1\n",
    "\t\tif m=='B':\n",
    "\t\t\tres=self.checkPosition(self.positionX,self.positionY-1)\n",
    "\t\t\tif res==3:\n",
    "\t\t\t\tself.positionY=self.positionY-1\n",
    "\t\t\telse:\n",
    "\t\t\t\tprint \"Crash\"\n",
    "\t\t\t\tself.crashes=self.crashes+1\n",
    "\t\tif m=='R':\n",
    "\t\t\tres=self.checkPosition(self.positionX+1,self.positionY)\n",
    "\t\t\tif res==3:\n",
    "\t\t\t\tself.positionX=self.positionX+1\n",
    "\t\t\telse:\n",
    "\t\t\t\tprint \"Crash\"\n",
    "\t\t\t\tself.crashes=self.crashes+1\n",
    "\t\tif m=='L':\n",
    "\t\t\tres=self.checkPosition(self.positionX-1,self.positionY)\n",
    "\t\t\tif res==3:\n",
    "\t\t\t\tself.positionX=self.positionX-1\n",
    "\t\t\telse:\n",
    "\t\t\t\tprint \"Crash\"\n",
    "\t\t\t\tself.crashes=self.crashes+1\t\n",
    "\t\tif res ==3 and self.graficar:\n",
    "\t\t\tself.trayectoriaX=self.trayectoriaX+[self.positionX]\n",
    "\t\t\tself.trayectoriaY=self.trayectoriaY+[self.positionY]\n",
    "\t\t\tplt.plot(self.trayectoriaX,self.trayectoriaY,color='red')\n",
    "\t\t\n",
    "\t\tself.steps=self.steps+1\t\n"
   ]
  },
  {
   "cell_type": "code",
   "execution_count": 6,
   "metadata": {
    "collapsed": false
   },
   "outputs": [
    {
     "data": {
      "image/png": "[encoded data removed]",
      "text/plain": [
       "<matplotlib.figure.Figure at 0x7f66a3580190>"
      ]
     },
     "metadata": {},
     "output_type": "display_data"
    }
   ],
   "source": [
    " carre=HighwaySimulator(df)"
   ]
  },
  {
   "cell_type": "code",
   "execution_count": 7,
   "metadata": {
    "collapsed": false
   },
   "outputs": [
    {
     "name": "stdout",
     "output_type": "stream",
     "text": [
      "[1, 1, 1, 1, 1, 1, 1, 0, 0]\n",
      "[1, 1, 1, 1, 0, 0, 1, 1, 0]\n",
      "Crash\n",
      "[1, 1, 1, 1, 0, 0, 1, 1, 0]\n",
      "[1, 1, 0, 0, 0, 0, 1, 0, 1]\n"
     ]
    },
    {
     "data": {
      "image/png": "[encoded data removed]",
      "text/plain": [
       "<matplotlib.figure.Figure at 0x7f66a35c7b10>"
      ]
     },
     "metadata": {},
     "output_type": "display_data"
    }
   ],
   "source": [
    "print carre.sensor()\n",
    "carre.move('F')\n",
    "print carre.sensor()\n",
    "carre.move('L')\n",
    "print carre.sensor()\n",
    "carre.move('R')\n",
    "print carre.sensor()"
   ]
  },
  {
   "cell_type": "code",
   "execution_count": 8,
   "metadata": {
    "collapsed": false
   },
   "outputs": [],
   "source": [
    "def per(n):\n",
    "    vec =[]\n",
    "    for i in range(1<<n):\n",
    "        s=bin(i)[2:]\n",
    "        s='0'*(n-len(s))+s\n",
    "        aux = map(int,list(s))\n",
    "        #aux2 = np.concatenate(aux[0:3], 0, aux[6:9])\n",
    "        aux2 = aux[0:4] + [0]+ aux[4:10]\n",
    "        vec.append(aux2)\n",
    "        #print map(int,list(s))\n",
    "    return vec\n",
    "ss = per(8)"
   ]
  },
  {
   "cell_type": "code",
   "execution_count": 9,
   "metadata": {
    "collapsed": false
   },
   "outputs": [
    {
     "name": "stdout",
     "output_type": "stream",
     "text": [
      "[[0, 0, 0, 0, 0, 0, 0, 0, 0]]\n",
      "[[0, 0, 0, 0, 0, 0, 0, 0, 1]]\n",
      "[[0, 0, 0, 0, 0, 0, 0, 1, 0]]\n",
      "[[0, 0, 0, 0, 0, 0, 0, 1, 1]]\n",
      "[[0, 0, 0, 0, 0, 0, 1, 0, 0]]\n",
      "[[0, 0, 0, 0, 0, 0, 1, 0, 1]]\n",
      "[[0, 0, 0, 0, 0, 0, 1, 1, 0]]\n",
      "[[0, 0, 0, 0, 0, 0, 1, 1, 1]]\n",
      "[[0, 0, 0, 0, 0, 1, 0, 0, 0]]\n",
      "[[0, 0, 0, 0, 0, 1, 0, 0, 1]]\n",
      "[[0, 0, 0, 0, 0, 1, 0, 1, 0]]\n",
      "[[0, 0, 0, 0, 0, 1, 0, 1, 1]]\n",
      "[[0, 0, 0, 0, 0, 1, 1, 0, 0]]\n",
      "[[0, 0, 0, 0, 0, 1, 1, 0, 1]]\n",
      "[[0, 0, 0, 0, 0, 1, 1, 1, 0]]\n",
      "[[0, 0, 0, 0, 0, 1, 1, 1, 1]]\n",
      "[[0, 0, 0, 1, 0, 0, 0, 0, 0]]\n",
      "[[0, 0, 0, 1, 0, 0, 0, 0, 1]]\n",
      "[[0, 0, 0, 1, 0, 0, 0, 1, 0]]\n",
      "[[0, 0, 0, 1, 0, 0, 0, 1, 1]]\n",
      "[[0, 0, 0, 1, 0, 0, 1, 0, 0]]\n",
      "[[0, 0, 0, 1, 0, 0, 1, 0, 1]]\n",
      "[[0, 0, 0, 1, 0, 0, 1, 1, 0]]\n",
      "[[0, 0, 0, 1, 0, 0, 1, 1, 1]]\n",
      "[[0, 0, 0, 1, 0, 1, 0, 0, 0]]\n",
      "[[0, 0, 0, 1, 0, 1, 0, 0, 1]]\n",
      "[[0, 0, 0, 1, 0, 1, 0, 1, 0]]\n",
      "[[0, 0, 0, 1, 0, 1, 0, 1, 1]]\n",
      "[[0, 0, 0, 1, 0, 1, 1, 0, 0]]\n",
      "[[0, 0, 0, 1, 0, 1, 1, 0, 1]]\n",
      "[[0, 0, 0, 1, 0, 1, 1, 1, 0]]\n",
      "[[0, 0, 0, 1, 0, 1, 1, 1, 1]]\n",
      "[[0, 0, 1, 0, 0, 0, 0, 0, 0]]\n",
      "[[0, 0, 1, 0, 0, 0, 0, 0, 1]]\n",
      "[[0, 0, 1, 0, 0, 0, 0, 1, 0]]\n",
      "[[0, 0, 1, 0, 0, 0, 0, 1, 1]]\n",
      "[[0, 0, 1, 0, 0, 0, 1, 0, 0]]\n",
      "[[0, 0, 1, 0, 0, 0, 1, 0, 1]]\n",
      "[[0, 0, 1, 0, 0, 0, 1, 1, 0]]\n",
      "[[0, 0, 1, 0, 0, 0, 1, 1, 1]]\n",
      "[[0, 0, 1, 0, 0, 1, 0, 0, 0]]\n",
      "[[0, 0, 1, 0, 0, 1, 0, 0, 1]]\n",
      "[[0, 0, 1, 0, 0, 1, 0, 1, 0]]\n",
      "[[0, 0, 1, 0, 0, 1, 0, 1, 1]]\n",
      "[[0, 0, 1, 0, 0, 1, 1, 0, 0]]\n",
      "[[0, 0, 1, 0, 0, 1, 1, 0, 1]]\n",
      "[[0, 0, 1, 0, 0, 1, 1, 1, 0]]\n",
      "[[0, 0, 1, 0, 0, 1, 1, 1, 1]]\n",
      "[[0, 0, 1, 1, 0, 0, 0, 0, 0]]\n",
      "[[0, 0, 1, 1, 0, 0, 0, 0, 1]]\n",
      "[[0, 0, 1, 1, 0, 0, 0, 1, 0]]\n",
      "[[0, 0, 1, 1, 0, 0, 0, 1, 1]]\n",
      "[[0, 0, 1, 1, 0, 0, 1, 0, 0]]\n",
      "[[0, 0, 1, 1, 0, 0, 1, 0, 1]]\n",
      "[[0, 0, 1, 1, 0, 0, 1, 1, 0]]\n",
      "[[0, 0, 1, 1, 0, 0, 1, 1, 1]]\n",
      "[[0, 0, 1, 1, 0, 1, 0, 0, 0]]\n",
      "[[0, 0, 1, 1, 0, 1, 0, 0, 1]]\n",
      "[[0, 0, 1, 1, 0, 1, 0, 1, 0]]\n",
      "[[0, 0, 1, 1, 0, 1, 0, 1, 1]]\n",
      "[[0, 0, 1, 1, 0, 1, 1, 0, 0]]\n",
      "[[0, 0, 1, 1, 0, 1, 1, 0, 1]]\n",
      "[[0, 0, 1, 1, 0, 1, 1, 1, 0]]\n",
      "[[0, 0, 1, 1, 0, 1, 1, 1, 1]]\n",
      "[[0, 1, 0, 0, 0, 0, 0, 0, 0]]\n",
      "[[0, 1, 0, 0, 0, 0, 0, 0, 1]]\n",
      "[[0, 1, 0, 0, 0, 0, 0, 1, 0]]\n",
      "[[0, 1, 0, 0, 0, 0, 0, 1, 1]]\n",
      "[[0, 1, 0, 0, 0, 0, 1, 0, 0]]\n",
      "[[0, 1, 0, 0, 0, 0, 1, 0, 1]]\n",
      "[[0, 1, 0, 0, 0, 0, 1, 1, 0]]\n",
      "[[0, 1, 0, 0, 0, 0, 1, 1, 1]]\n",
      "[[0, 1, 0, 0, 0, 1, 0, 0, 0]]\n",
      "[[0, 1, 0, 0, 0, 1, 0, 0, 1]]\n",
      "[[0, 1, 0, 0, 0, 1, 0, 1, 0]]\n",
      "[[0, 1, 0, 0, 0, 1, 0, 1, 1]]\n",
      "[[0, 1, 0, 0, 0, 1, 1, 0, 0]]\n",
      "[[0, 1, 0, 0, 0, 1, 1, 0, 1]]\n",
      "[[0, 1, 0, 0, 0, 1, 1, 1, 0]]\n",
      "[[0, 1, 0, 0, 0, 1, 1, 1, 1]]\n",
      "[[0, 1, 0, 1, 0, 0, 0, 0, 0]]\n",
      "[[0, 1, 0, 1, 0, 0, 0, 0, 1]]\n",
      "[[0, 1, 0, 1, 0, 0, 0, 1, 0]]\n",
      "[[0, 1, 0, 1, 0, 0, 0, 1, 1]]\n",
      "[[0, 1, 0, 1, 0, 0, 1, 0, 0]]\n",
      "[[0, 1, 0, 1, 0, 0, 1, 0, 1]]\n",
      "[[0, 1, 0, 1, 0, 0, 1, 1, 0]]\n",
      "[[0, 1, 0, 1, 0, 0, 1, 1, 1]]\n",
      "[[0, 1, 0, 1, 0, 1, 0, 0, 0]]\n",
      "[[0, 1, 0, 1, 0, 1, 0, 0, 1]]\n",
      "[[0, 1, 0, 1, 0, 1, 0, 1, 0]]\n",
      "[[0, 1, 0, 1, 0, 1, 0, 1, 1]]\n",
      "[[0, 1, 0, 1, 0, 1, 1, 0, 0]]\n",
      "[[0, 1, 0, 1, 0, 1, 1, 0, 1]]\n",
      "[[0, 1, 0, 1, 0, 1, 1, 1, 0]]\n",
      "[[0, 1, 0, 1, 0, 1, 1, 1, 1]]\n",
      "[[0, 1, 1, 0, 0, 0, 0, 0, 0]]\n",
      "[[0, 1, 1, 0, 0, 0, 0, 0, 1]]\n",
      "[[0, 1, 1, 0, 0, 0, 0, 1, 0]]\n",
      "[[0, 1, 1, 0, 0, 0, 0, 1, 1]]\n",
      "[[0, 1, 1, 0, 0, 0, 1, 0, 0]]\n",
      "[[0, 1, 1, 0, 0, 0, 1, 0, 1]]\n",
      "[[0, 1, 1, 0, 0, 0, 1, 1, 0]]\n",
      "[[0, 1, 1, 0, 0, 0, 1, 1, 1]]\n",
      "[[0, 1, 1, 0, 0, 1, 0, 0, 0]]\n",
      "[[0, 1, 1, 0, 0, 1, 0, 0, 1]]\n",
      "[[0, 1, 1, 0, 0, 1, 0, 1, 0]]\n",
      "[[0, 1, 1, 0, 0, 1, 0, 1, 1]]\n",
      "[[0, 1, 1, 0, 0, 1, 1, 0, 0]]\n",
      "[[0, 1, 1, 0, 0, 1, 1, 0, 1]]\n",
      "[[0, 1, 1, 0, 0, 1, 1, 1, 0]]\n",
      "[[0, 1, 1, 0, 0, 1, 1, 1, 1]]\n",
      "[[0, 1, 1, 1, 0, 0, 0, 0, 0]]\n",
      "[[0, 1, 1, 1, 0, 0, 0, 0, 1]]\n",
      "[[0, 1, 1, 1, 0, 0, 0, 1, 0]]\n",
      "[[0, 1, 1, 1, 0, 0, 0, 1, 1]]\n",
      "[[0, 1, 1, 1, 0, 0, 1, 0, 0]]\n",
      "[[0, 1, 1, 1, 0, 0, 1, 0, 1]]\n",
      "[[0, 1, 1, 1, 0, 0, 1, 1, 0]]\n",
      "[[0, 1, 1, 1, 0, 0, 1, 1, 1]]\n",
      "[[0, 1, 1, 1, 0, 1, 0, 0, 0]]\n",
      "[[0, 1, 1, 1, 0, 1, 0, 0, 1]]\n",
      "[[0, 1, 1, 1, 0, 1, 0, 1, 0]]\n",
      "[[0, 1, 1, 1, 0, 1, 0, 1, 1]]\n",
      "[[0, 1, 1, 1, 0, 1, 1, 0, 0]]\n",
      "[[0, 1, 1, 1, 0, 1, 1, 0, 1]]\n",
      "[[0, 1, 1, 1, 0, 1, 1, 1, 0]]\n",
      "[[0, 1, 1, 1, 0, 1, 1, 1, 1]]\n",
      "[[1, 0, 0, 0, 0, 0, 0, 0, 0]]\n",
      "[[1, 0, 0, 0, 0, 0, 0, 0, 1]]\n",
      "[[1, 0, 0, 0, 0, 0, 0, 1, 0]]\n",
      "[[1, 0, 0, 0, 0, 0, 0, 1, 1]]\n",
      "[[1, 0, 0, 0, 0, 0, 1, 0, 0]]\n",
      "[[1, 0, 0, 0, 0, 0, 1, 0, 1]]\n",
      "[[1, 0, 0, 0, 0, 0, 1, 1, 0]]\n",
      "[[1, 0, 0, 0, 0, 0, 1, 1, 1]]\n",
      "[[1, 0, 0, 0, 0, 1, 0, 0, 0]]\n",
      "[[1, 0, 0, 0, 0, 1, 0, 0, 1]]\n",
      "[[1, 0, 0, 0, 0, 1, 0, 1, 0]]\n",
      "[[1, 0, 0, 0, 0, 1, 0, 1, 1]]\n",
      "[[1, 0, 0, 0, 0, 1, 1, 0, 0]]\n",
      "[[1, 0, 0, 0, 0, 1, 1, 0, 1]]\n",
      "[[1, 0, 0, 0, 0, 1, 1, 1, 0]]\n",
      "[[1, 0, 0, 0, 0, 1, 1, 1, 1]]\n",
      "[[1, 0, 0, 1, 0, 0, 0, 0, 0]]\n",
      "[[1, 0, 0, 1, 0, 0, 0, 0, 1]]\n",
      "[[1, 0, 0, 1, 0, 0, 0, 1, 0]]\n",
      "[[1, 0, 0, 1, 0, 0, 0, 1, 1]]\n",
      "[[1, 0, 0, 1, 0, 0, 1, 0, 0]]\n",
      "[[1, 0, 0, 1, 0, 0, 1, 0, 1]]\n",
      "[[1, 0, 0, 1, 0, 0, 1, 1, 0]]\n",
      "[[1, 0, 0, 1, 0, 0, 1, 1, 1]]\n",
      "[[1, 0, 0, 1, 0, 1, 0, 0, 0]]\n",
      "[[1, 0, 0, 1, 0, 1, 0, 0, 1]]\n",
      "[[1, 0, 0, 1, 0, 1, 0, 1, 0]]\n",
      "[[1, 0, 0, 1, 0, 1, 0, 1, 1]]\n",
      "[[1, 0, 0, 1, 0, 1, 1, 0, 0]]\n",
      "[[1, 0, 0, 1, 0, 1, 1, 0, 1]]\n",
      "[[1, 0, 0, 1, 0, 1, 1, 1, 0]]\n",
      "[[1, 0, 0, 1, 0, 1, 1, 1, 1]]\n",
      "[[1, 0, 1, 0, 0, 0, 0, 0, 0]]\n",
      "[[1, 0, 1, 0, 0, 0, 0, 0, 1]]\n",
      "[[1, 0, 1, 0, 0, 0, 0, 1, 0]]\n",
      "[[1, 0, 1, 0, 0, 0, 0, 1, 1]]\n",
      "[[1, 0, 1, 0, 0, 0, 1, 0, 0]]\n",
      "[[1, 0, 1, 0, 0, 0, 1, 0, 1]]\n",
      "[[1, 0, 1, 0, 0, 0, 1, 1, 0]]\n",
      "[[1, 0, 1, 0, 0, 0, 1, 1, 1]]\n",
      "[[1, 0, 1, 0, 0, 1, 0, 0, 0]]\n",
      "[[1, 0, 1, 0, 0, 1, 0, 0, 1]]\n",
      "[[1, 0, 1, 0, 0, 1, 0, 1, 0]]\n",
      "[[1, 0, 1, 0, 0, 1, 0, 1, 1]]\n",
      "[[1, 0, 1, 0, 0, 1, 1, 0, 0]]\n",
      "[[1, 0, 1, 0, 0, 1, 1, 0, 1]]\n",
      "[[1, 0, 1, 0, 0, 1, 1, 1, 0]]\n",
      "[[1, 0, 1, 0, 0, 1, 1, 1, 1]]\n",
      "[[1, 0, 1, 1, 0, 0, 0, 0, 0]]\n",
      "[[1, 0, 1, 1, 0, 0, 0, 0, 1]]\n",
      "[[1, 0, 1, 1, 0, 0, 0, 1, 0]]\n",
      "[[1, 0, 1, 1, 0, 0, 0, 1, 1]]\n",
      "[[1, 0, 1, 1, 0, 0, 1, 0, 0]]\n",
      "[[1, 0, 1, 1, 0, 0, 1, 0, 1]]\n",
      "[[1, 0, 1, 1, 0, 0, 1, 1, 0]]\n",
      "[[1, 0, 1, 1, 0, 0, 1, 1, 1]]\n",
      "[[1, 0, 1, 1, 0, 1, 0, 0, 0]]\n",
      "[[1, 0, 1, 1, 0, 1, 0, 0, 1]]\n",
      "[[1, 0, 1, 1, 0, 1, 0, 1, 0]]\n",
      "[[1, 0, 1, 1, 0, 1, 0, 1, 1]]\n",
      "[[1, 0, 1, 1, 0, 1, 1, 0, 0]]\n",
      "[[1, 0, 1, 1, 0, 1, 1, 0, 1]]\n",
      "[[1, 0, 1, 1, 0, 1, 1, 1, 0]]\n",
      "[[1, 0, 1, 1, 0, 1, 1, 1, 1]]\n",
      "[[1, 1, 0, 0, 0, 0, 0, 0, 0]]\n",
      "[[1, 1, 0, 0, 0, 0, 0, 0, 1]]\n",
      "[[1, 1, 0, 0, 0, 0, 0, 1, 0]]\n",
      "[[1, 1, 0, 0, 0, 0, 0, 1, 1]]\n",
      "[[1, 1, 0, 0, 0, 0, 1, 0, 0]]\n",
      "[[1, 1, 0, 0, 0, 0, 1, 0, 1]]\n",
      "[[1, 1, 0, 0, 0, 0, 1, 1, 0]]\n",
      "[[1, 1, 0, 0, 0, 0, 1, 1, 1]]\n",
      "[[1, 1, 0, 0, 0, 1, 0, 0, 0]]\n",
      "[[1, 1, 0, 0, 0, 1, 0, 0, 1]]\n",
      "[[1, 1, 0, 0, 0, 1, 0, 1, 0]]\n",
      "[[1, 1, 0, 0, 0, 1, 0, 1, 1]]\n",
      "[[1, 1, 0, 0, 0, 1, 1, 0, 0]]\n",
      "[[1, 1, 0, 0, 0, 1, 1, 0, 1]]\n",
      "[[1, 1, 0, 0, 0, 1, 1, 1, 0]]\n",
      "[[1, 1, 0, 0, 0, 1, 1, 1, 1]]\n",
      "[[1, 1, 0, 1, 0, 0, 0, 0, 0]]\n",
      "[[1, 1, 0, 1, 0, 0, 0, 0, 1]]\n",
      "[[1, 1, 0, 1, 0, 0, 0, 1, 0]]\n",
      "[[1, 1, 0, 1, 0, 0, 0, 1, 1]]\n",
      "[[1, 1, 0, 1, 0, 0, 1, 0, 0]]\n",
      "[[1, 1, 0, 1, 0, 0, 1, 0, 1]]\n",
      "[[1, 1, 0, 1, 0, 0, 1, 1, 0]]\n",
      "[[1, 1, 0, 1, 0, 0, 1, 1, 1]]\n",
      "[[1, 1, 0, 1, 0, 1, 0, 0, 0]]\n",
      "[[1, 1, 0, 1, 0, 1, 0, 0, 1]]\n",
      "[[1, 1, 0, 1, 0, 1, 0, 1, 0]]\n",
      "[[1, 1, 0, 1, 0, 1, 0, 1, 1]]\n",
      "[[1, 1, 0, 1, 0, 1, 1, 0, 0]]\n",
      "[[1, 1, 0, 1, 0, 1, 1, 0, 1]]\n",
      "[[1, 1, 0, 1, 0, 1, 1, 1, 0]]\n",
      "[[1, 1, 0, 1, 0, 1, 1, 1, 1]]\n",
      "[[1, 1, 1, 0, 0, 0, 0, 0, 0]]\n",
      "[[1, 1, 1, 0, 0, 0, 0, 0, 1]]\n",
      "[[1, 1, 1, 0, 0, 0, 0, 1, 0]]\n",
      "[[1, 1, 1, 0, 0, 0, 0, 1, 1]]\n",
      "[[1, 1, 1, 0, 0, 0, 1, 0, 0]]\n",
      "[[1, 1, 1, 0, 0, 0, 1, 0, 1]]\n",
      "[[1, 1, 1, 0, 0, 0, 1, 1, 0]]\n",
      "[[1, 1, 1, 0, 0, 0, 1, 1, 1]]\n",
      "[[1, 1, 1, 0, 0, 1, 0, 0, 0]]\n",
      "[[1, 1, 1, 0, 0, 1, 0, 0, 1]]\n",
      "[[1, 1, 1, 0, 0, 1, 0, 1, 0]]\n",
      "[[1, 1, 1, 0, 0, 1, 0, 1, 1]]\n",
      "[[1, 1, 1, 0, 0, 1, 1, 0, 0]]\n",
      "[[1, 1, 1, 0, 0, 1, 1, 0, 1]]\n",
      "[[1, 1, 1, 0, 0, 1, 1, 1, 0]]\n",
      "[[1, 1, 1, 0, 0, 1, 1, 1, 1]]\n",
      "[[1, 1, 1, 1, 0, 0, 0, 0, 0]]\n",
      "[[1, 1, 1, 1, 0, 0, 0, 0, 1]]\n",
      "[[1, 1, 1, 1, 0, 0, 0, 1, 0]]\n",
      "[[1, 1, 1, 1, 0, 0, 0, 1, 1]]\n",
      "[[1, 1, 1, 1, 0, 0, 1, 0, 0]]\n",
      "[[1, 1, 1, 1, 0, 0, 1, 0, 1]]\n",
      "[[1, 1, 1, 1, 0, 0, 1, 1, 0]]\n",
      "[[1, 1, 1, 1, 0, 0, 1, 1, 1]]\n",
      "[[1, 1, 1, 1, 0, 1, 0, 0, 0]]\n",
      "[[1, 1, 1, 1, 0, 1, 0, 0, 1]]\n"
     ]
    }
   ],
   "source": [
    "for j in range(250):\n",
    "    print ss[j:j+1]"
   ]
  },
  {
   "cell_type": "code",
   "execution_count": 10,
   "metadata": {
    "collapsed": false
   },
   "outputs": [],
   "source": [
    "def ys(sens):\n",
    "    if sens[7]==0:\n",
    "        y = [1,0,0,0]\n",
    "        return y\n",
    "    elif sens[3]+sens[5] == 0:\n",
    "        if random.choice([True,False]):\n",
    "            y = [0,0,1,0]\n",
    "            return y\n",
    "        else:\n",
    "            y = [0,0,0,1]\n",
    "            return y\n",
    "    elif sens[3] == 0:\n",
    "        y = [0,0,1,0]\n",
    "        return y\n",
    "    elif sens[5] ==0:\n",
    "        y = [0,0,0,1]\n",
    "        return y\n",
    "    elif sens[1]==0:\n",
    "        y = [0,1,0,0]\n",
    "        return y"
   ]
  },
  {
   "cell_type": "code",
   "execution_count": 11,
   "metadata": {
    "collapsed": false
   },
   "outputs": [],
   "source": [
    "yt = [ys(x) for x in ss]\n",
    "#print yt\n",
    "buenos = [x for x in range(len(yt)) if yt[x] != None]\n",
    "yt = [yt[x] for x in buenos]\n",
    "xt = [ss[x] for x in buenos]"
   ]
  },
  {
   "cell_type": "code",
   "execution_count": 29,
   "metadata": {
    "collapsed": false
   },
   "outputs": [],
   "source": [
    "#print buenos\n",
    "#print yt"
   ]
  },
  {
   "cell_type": "code",
   "execution_count": 12,
   "metadata": {
    "collapsed": true
   },
   "outputs": [],
   "source": [
    "# Los placeholders son para los datos de entrada\n",
    "x = tf.placeholder(tf.float32, [None, 9])\n",
    "y_ = tf.placeholder(tf.float32, [None, 4]) # la y real\n",
    "\n",
    "W_layer1 = tf.Variable(tf.random_uniform([9, 9], -1, 1), \n",
    "                       name = \"W_layer1\")\n",
    "b_layer1 = tf.Variable(tf.zeros([9]), \n",
    "                       name = \"b_layer1\")\n",
    "\n",
    "W_layer2 = tf.Variable(tf.random_uniform([9, 4], -1, 1), \n",
    "                       name = \"W_layer2\")\n",
    "b_layer2 = tf.Variable(tf.zeros([4]), \n",
    "                       name = \"b_layer2\")\n",
    "\n",
    "# Modelo\n",
    "hdn = tf.nn.sigmoid( tf.matmul(x,W_layer1) + b_layer1)\n",
    "y = tf.nn.sigmoid( tf.matmul(hdn,W_layer2) + b_layer2) \n",
    "\n",
    "# Función de pérdida \n",
    "\n",
    "# cuadrática\n",
    "# lossfn = tf.reduce_mean( tf.reduce_sum((y_ - y)**2) )\n",
    "\n",
    "# entropía\n",
    "lossfn= tf.reduce_mean(( (y_ * tf.log(y)) +  \n",
    "                        ((1 - y_) * tf.log(1.0 - y)) ) * -1) \n",
    "\n",
    "# Algoritmo de entrenamiento\n",
    "train_step = tf.train.GradientDescentOptimizer(.01).minimize(lossfn)"
   ]
  },
  {
   "cell_type": "code",
   "execution_count": 13,
   "metadata": {
    "collapsed": true
   },
   "outputs": [],
   "source": [
    "init = tf.initialize_all_variables()\n",
    "sess = tf.Session() # tipo de sesion, puede ser interactiva\n",
    "sess.run(init)\n",
    "for i in range(30000):\n",
    "  sess.run(train_step, feed_dict={x: xt, y_: yt})"
   ]
  },
  {
   "cell_type": "code",
   "execution_count": 14,
   "metadata": {
    "collapsed": false
   },
   "outputs": [
    {
     "name": "stdout",
     "output_type": "stream",
     "text": [
      "0.951042\n"
     ]
    }
   ],
   "source": [
    "correct_prediction = tf.equal(tf.round(y),y_) # aca estams definiendo otras operacioes\n",
    "accuracy = tf.reduce_mean(tf.cast(correct_prediction, tf.float32))\n",
    "print(sess.run(accuracy, feed_dict={x: xt, y_: yt})) # las corremos"
   ]
  },
  {
   "cell_type": "code",
   "execution_count": 38,
   "metadata": {
    "collapsed": false
   },
   "outputs": [
    {
     "name": "stdout",
     "output_type": "stream",
     "text": [
      "We see the guesses for each sensor (0 to 10)\n",
      "[[ 0.87857592  0.01829173  0.06412289  0.04480698]\n",
      " [ 0.91752499  0.01551934  0.04115955  0.05203481]\n",
      " [ 0.01595931  0.13229689  0.56972003  0.56352091]\n",
      " [ 0.02162155  0.11643229  0.46246228  0.60817128]\n",
      " [ 0.91044271  0.01451696  0.05678147  0.03791508]\n",
      " [ 0.93917859  0.01234302  0.03669041  0.04402107]\n",
      " [ 0.02122213  0.10776111  0.54722977  0.52688777]\n",
      " [ 0.02855501  0.09466475  0.43771639  0.57770973]\n",
      " [ 0.93472111  0.03573181  0.16241242  0.00686722]\n",
      " [ 0.94913262  0.03175958  0.11026783  0.00794984]]\n",
      "We see the real ys for the sensor (0 to 10)\n",
      "[[1, 0, 0, 0], [1, 0, 0, 0], [0, 0, 1, 0], [0, 0, 1, 0], [1, 0, 0, 0], [1, 0, 0, 0], [0, 0, 0, 1], [0, 0, 1, 0], [1, 0, 0, 0], [1, 0, 0, 0]]\n",
      "We see the guess argmax:\n",
      "[0.87857592, 0.91752499, 0.56972003, 0.60817128, 0.91044271, 0.93917859, 0.54722977, 0.57770973, 0.93472111, 0.94913262]\n",
      "[0, 0, 2, 3, 0, 0, 2, 3, 0, 0]\n",
      "And we compare against the real:\n",
      "<type 'list'>\n",
      "1\n",
      "[0, 0, 2, 2, 0, 0, 3, 2, 0, 0]\n"
     ]
    }
   ],
   "source": [
    "#print(sess.run(W_layer1, feed_dict={x: xt, y_: yt}))\n",
    "#print(sess.run(W_layer2, feed_dict={x: xt, y_: yt}))\n",
    "output_guess = sess.run(y, feed_dict={x: xt, y_: yt})\n",
    "#print type(output_guess)\n",
    "print \"We see the guesses for each sensor (0 to 10)\"\n",
    "print output_guess[0:10]\n",
    "print \"We see the real ys for the sensor (0 to 10)\"\n",
    "print yt[0:10] \n",
    "print \"We see the guess argmax:\"\n",
    "guess_max = [output_guess[i].max() for i in range(len(output_guess))]\n",
    "print guess_max[0:10]\n",
    "guess_argmax = [output_guess[i].argmax() for i in range(len(output_guess))]\n",
    "print guess_argmax[0:10]\n",
    "print \"And we compare against the real:\"\n",
    "print type(yt[0])\n",
    "print max(yt[0])\n",
    "real_argmax = [yt[i].index(max(yt[i])) for i in range(len(yt))]\n",
    "print real_argmax[0:10]\n",
    "\n",
    "#el vector guess_argmax contiene las predicciones de hacia dónde \n",
    "# debe moverse el carrito.\n",
    "   #notar que si pusiéramos una regla más consistente al carrito\n",
    "    # por ejemplo, moverse a la izquierda siempre que pueda, \n",
    "    # aunque con riesgo de ciclarse, la red neuronal aprendería más\n",
    "    # sencillo (con mejor precisión, menos errores)\n",
    "\n",
    "#print(sess.run(y, feed_dict={x: xt, y_: yt})[200:210])\n",
    "# F,B,L,R"
   ]
  },
  {
   "cell_type": "code",
   "execution_count": 122,
   "metadata": {
    "collapsed": false
   },
   "outputs": [
    {
     "data": {
      "text/plain": [
       "[[1, 0, 0, 0],\n",
       " [1, 0, 0, 0],\n",
       " [0, 0, 0, 1],\n",
       " [0, 0, 0, 1],\n",
       " [1, 0, 0, 0],\n",
       " [1, 0, 0, 0],\n",
       " [1, 0, 0, 0],\n",
       " [1, 0, 0, 0],\n",
       " [0, 0, 0, 1],\n",
       " [0, 0, 0, 1]]"
      ]
     },
     "execution_count": 122,
     "metadata": {},
     "output_type": "execute_result"
    }
   ],
   "source": [
    "#yt[200:210]"
   ]
  },
  {
   "cell_type": "code",
   "execution_count": 124,
   "metadata": {
    "collapsed": false
   },
   "outputs": [
    {
     "name": "stdout",
     "output_type": "stream",
     "text": [
      "Crash\n"
     ]
    }
   ],
   "source": [
    "#carre.move('F')"
   ]
  },
  {
   "cell_type": "code",
   "execution_count": 129,
   "metadata": {
    "collapsed": false
   },
   "outputs": [
    {
     "data": {
      "text/plain": [
       "array([ 0.07923787,  0.15359657,  0.14845847,  0.58488226], dtype=float32)"
      ]
     },
     "execution_count": 129,
     "metadata": {},
     "output_type": "execute_result"
    }
   ],
   "source": [
    "sess.run(y, feed_dict={x:[[0,1,1,1,0,0,0,1,0]] })[0]"
   ]
  },
  {
   "cell_type": "code",
   "execution_count": null,
   "metadata": {
    "collapsed": true
   },
   "outputs": [],
   "source": []
  },
  {
   "cell_type": "code",
   "execution_count": null,
   "metadata": {
    "collapsed": true
   },
   "outputs": [],
   "source": []
  },
  {
   "cell_type": "code",
   "execution_count": null,
   "metadata": {
    "collapsed": true
   },
   "outputs": [],
   "source": []
  },
  {
   "cell_type": "code",
   "execution_count": null,
   "metadata": {
    "collapsed": true
   },
   "outputs": [],
   "source": []
  },
  {
   "cell_type": "code",
   "execution_count": null,
   "metadata": {
    "collapsed": true
   },
   "outputs": [],
   "source": []
  },
  {
   "cell_type": "code",
   "execution_count": null,
   "metadata": {
    "collapsed": true
   },
   "outputs": [],
   "source": []
  }
 ],
 "metadata": {
  "anaconda-cloud": {},
  "kernelspec": {
   "display_name": "Python [default]",
   "language": "python",
   "name": "python2"
  },
  "language_info": {
   "codemirror_mode": {
    "name": "ipython",
    "version": 2
   },
   "file_extension": ".py",
   "mimetype": "text/x-python",
   "name": "python",
   "nbconvert_exporter": "python",
   "pygments_lexer": "ipython2",
   "version": "2.7.12"
  }
 },
 "nbformat": 4,
 "nbformat_minor": 1
}
