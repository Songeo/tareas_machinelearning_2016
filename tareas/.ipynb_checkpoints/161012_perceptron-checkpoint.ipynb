{
 "cells": [
  {
   "cell_type": "markdown",
   "metadata": {},
   "source": [
    "# Modelo de Neurona: Perceptrón\n",
    "---\n",
    "### Regresión Lineal\n",
    "5 de octubre de 2016"
   ]
  },
  {
   "cell_type": "code",
   "execution_count": 1,
   "metadata": {
    "collapsed": false
   },
   "outputs": [],
   "source": [
    "from sklearn.cross_validation import train_test_split\n",
    "from sklearn import preprocessing\n",
    "from sklearn.metrics import confusion_matrix\n",
    "from random import random,randint,seed,sample\n",
    "import matplotlib.pyplot as plt\n",
    "import pandas as pda\n",
    "import numpy as np\n",
    "%matplotlib inline\n",
    "from __future__ import division\n",
    "seed(20160918)"
   ]
  },
  {
   "cell_type": "code",
   "execution_count": null,
   "metadata": {
    "collapsed": true
   },
   "outputs": [],
   "source": []
  },
  {
   "cell_type": "markdown",
   "metadata": {},
   "source": [
    "### Ejercicio 1"
   ]
  },
  {
   "cell_type": "code",
   "execution_count": 2,
   "metadata": {
    "collapsed": false
   },
   "outputs": [
    {
     "data": {
      "text/html": [
       "<div>\n",
       "<table border=\"1\" class=\"dataframe\">\n",
       "  <thead>\n",
       "    <tr style=\"text-align: right;\">\n",
       "      <th></th>\n",
       "      <th>X</th>\n",
       "      <th>y</th>\n",
       "    </tr>\n",
       "  </thead>\n",
       "  <tbody>\n",
       "    <tr>\n",
       "      <th>0</th>\n",
       "      <td>71.130300</td>\n",
       "      <td>0</td>\n",
       "    </tr>\n",
       "    <tr>\n",
       "      <th>1</th>\n",
       "      <td>36.872465</td>\n",
       "      <td>0</td>\n",
       "    </tr>\n",
       "    <tr>\n",
       "      <th>2</th>\n",
       "      <td>56.508402</td>\n",
       "      <td>0</td>\n",
       "    </tr>\n",
       "    <tr>\n",
       "      <th>3</th>\n",
       "      <td>78.120147</td>\n",
       "      <td>0</td>\n",
       "    </tr>\n",
       "  </tbody>\n",
       "</table>\n",
       "</div>"
      ],
      "text/plain": [
       "           X  y\n",
       "0  71.130300  0\n",
       "1  36.872465  0\n",
       "2  56.508402  0\n",
       "3  78.120147  0"
      ]
     },
     "execution_count": 2,
     "metadata": {},
     "output_type": "execute_result"
    }
   ],
   "source": [
    "df1 = pda.read_table(\"../datos_clase/regLin4.csv\", sep=\",\", header = 0)\n",
    "df1[:4]"
   ]
  },
  {
   "cell_type": "code",
   "execution_count": 3,
   "metadata": {
    "collapsed": false
   },
   "outputs": [],
   "source": [
    "y1 = df1[:][df1.columns[1]]\n",
    "x1 = df1[:][df1.columns[0]]\n",
    "x1_c = (x1 - np.mean(x1))/np.var(x1)\n",
    "x1_train, x1_test, y1_train, y1_test = train_test_split(x1_c, y1, train_size=0.75)"
   ]
  },
  {
   "cell_type": "code",
   "execution_count": null,
   "metadata": {
    "collapsed": true
   },
   "outputs": [],
   "source": []
  },
  {
   "cell_type": "code",
   "execution_count": 4,
   "metadata": {
    "collapsed": true
   },
   "outputs": [],
   "source": [
    "def MseEst(wsact, xmat, yvec):\n",
    "    yfit = wsact[0] + wsact[1]*xmat\n",
    "    gx = []\n",
    "    for reng in range(len(yfit)):\n",
    "        gxv = 0\n",
    "        if yfit[reng]>0:\n",
    "            gxv = 1\n",
    "        gx.append(gxv)\n",
    "    mse = np.sum(yvec - gx)\n",
    "    return mse\n",
    "\n",
    "def WsEnt(wsinit, nu, yvec, xmat):\n",
    "    ws = np.asarray(wsinit)\n",
    "    for reng in range(len(yvec)):\n",
    "        # reng = 0\n",
    "        xobsreng = np.asarray(xmat)[reng]\n",
    "        yobsreng = np.asarray(yvec)[reng]\n",
    "        # costo\n",
    "        vx = ws[0] + ws[1]*xobsreng\n",
    "        # perceptron\n",
    "        gxact = 0\n",
    "        if vx > 0:\n",
    "            gxact = 1\n",
    "        # error\n",
    "        error = (yobsreng - gxact)\n",
    "        # actualización de ws\n",
    "        ws[0] = ws[0] + nu*error*1\n",
    "        ws[1] = ws[1] + nu*error*xobsreng\n",
    "    return ws\n",
    "\n",
    "def LinRegrPercep(wsinit, yvec, xmat, nuval):\n",
    "    wsent = WsEnt(wsinit = wsinit, \n",
    "                nu = nuval, \n",
    "                yvec = yvec, xmat = xmat)\n",
    "    error = MseEst(wsact = wsent, xmat = xmat, yvec = yvec)\n",
    "    return wsent, error\n",
    "\n",
    "def fitgx(ws0, ws1, xmat):\n",
    "    fity = []\n",
    "    gxfit = ws0 + ws1*xmat\n",
    "    for i in range(len(gxfit)):\n",
    "        act = 0\n",
    "        if gxfit[i] > 0:\n",
    "            act = 1\n",
    "        fity.append(act)\n",
    "    return fity"
   ]
  },
  {
   "cell_type": "markdown",
   "metadata": {},
   "source": [
    "Conjunto de Prueba"
   ]
  },
  {
   "cell_type": "code",
   "execution_count": 52,
   "metadata": {
    "collapsed": true
   },
   "outputs": [],
   "source": [
    "ws0list = [0.0]\n",
    "ws1list = [0.0]\n",
    "errorlist = [0]\n",
    "for val in range(50+1)[1:]:\n",
    "    regi = LinRegrPercep(wsinit = [ws0list[val-1], \n",
    "                                   ws1list[val-1]] , \n",
    "                         yvec = np.asarray(y1_train), \n",
    "                         xmat = np.asarray(x1_train),\n",
    "                         nuval = .5)\n",
    "    ws0list.append(regi[0][0])\n",
    "    ws1list.append(regi[0][1])\n",
    "    errorlist.append(regi[1])"
   ]
  },
  {
   "cell_type": "code",
   "execution_count": 53,
   "metadata": {
    "collapsed": false
   },
   "outputs": [],
   "source": [
    "fit_train = fitgx(ws0 = ws0list[len(ws0list[1:])], \n",
    "      ws1 = ws1list[len(ws1list[1:])], \n",
    "      xmat = np.asarray(x1_train) )"
   ]
  },
  {
   "cell_type": "code",
   "execution_count": 54,
   "metadata": {
    "collapsed": false
   },
   "outputs": [
    {
     "data": {
      "text/plain": [
       "array([[512,   0],\n",
       "       [ 15, 244]])"
      ]
     },
     "execution_count": 54,
     "metadata": {},
     "output_type": "execute_result"
    }
   ],
   "source": [
    "confusion_matrix(y1_train, fit_train)"
   ]
  },
  {
   "cell_type": "code",
   "execution_count": 55,
   "metadata": {
    "collapsed": false
   },
   "outputs": [
    {
     "data": {
      "text/plain": [
       "<matplotlib.collections.PathCollection at 0x11b1b34d0>"
      ]
     },
     "execution_count": 55,
     "metadata": {},
     "output_type": "execute_result"
    },
    {
     "data": {
      "image/png": "[encoded data removed]",
      "text/plain": [
       "<matplotlib.figure.Figure at 0x11b1b3190>"
      ]
     },
     "metadata": {},
     "output_type": "display_data"
    }
   ],
   "source": [
    "plt.scatter(x1_train, y1_train+.03)\n",
    "plt.scatter(x1_train, fit_train, c = 'red')"
   ]
  },
  {
   "cell_type": "code",
   "execution_count": 56,
   "metadata": {
    "collapsed": false
   },
   "outputs": [
    {
     "data": {
      "text/plain": [
       "<matplotlib.text.Text at 0x11b214850>"
      ]
     },
     "execution_count": 56,
     "metadata": {},
     "output_type": "execute_result"
    },
    {
     "data": {
      "image/png": "[encoded data removed]",
      "text/plain": [
       "<matplotlib.figure.Figure at 0x11b563a10>"
      ]
     },
     "metadata": {},
     "output_type": "display_data"
    }
   ],
   "source": [
    "plt.plot(errorlist[1:])\n",
    "plt.ylabel(\"MSE\")\n",
    "plt.xlabel(\"Iteraciones\")"
   ]
  },
  {
   "cell_type": "markdown",
   "metadata": {
    "collapsed": true
   },
   "source": [
    "Entrenamiento "
   ]
  },
  {
   "cell_type": "code",
   "execution_count": 61,
   "metadata": {
    "collapsed": true
   },
   "outputs": [],
   "source": [
    "fit_test = fitgx(ws0 = ws0list[len(ws0list[1:])], \n",
    "      ws1 = ws1list[len(ws1list[1:])], \n",
    "      xmat = np.asarray(x1_test) )"
   ]
  },
  {
   "cell_type": "code",
   "execution_count": 62,
   "metadata": {
    "collapsed": false
   },
   "outputs": [
    {
     "data": {
      "text/plain": [
       "array([[182,   0],\n",
       "       [  2,  74]])"
      ]
     },
     "execution_count": 62,
     "metadata": {},
     "output_type": "execute_result"
    }
   ],
   "source": [
    "confusion_matrix(y1_test, fit_test)"
   ]
  },
  {
   "cell_type": "code",
   "execution_count": null,
   "metadata": {
    "collapsed": false
   },
   "outputs": [],
   "source": []
  },
  {
   "cell_type": "code",
   "execution_count": null,
   "metadata": {
    "collapsed": true
   },
   "outputs": [],
   "source": []
  },
  {
   "cell_type": "markdown",
   "metadata": {},
   "source": [
    "### Ejercicio 2\n",
    "---\n",
    "#### XAND"
   ]
  },
  {
   "cell_type": "code",
   "execution_count": 12,
   "metadata": {
    "collapsed": false
   },
   "outputs": [],
   "source": [
    "d = {'x1' : pda.Series([0,0,1,1]),\n",
    "     'x2' : pda.Series([0,1,0,1]),\n",
    "     'y' : pda.Series([0,0,0,1])\n",
    "    }\n",
    "dfand = pda.DataFrame(d)"
   ]
  },
  {
   "cell_type": "code",
   "execution_count": 13,
   "metadata": {
    "collapsed": true
   },
   "outputs": [],
   "source": [
    "def WsEntMult(wsinit, nu, yvec, xmat):\n",
    "    ws = np.asarray(wsinit)\n",
    "    for reng in range(len(yvec)):\n",
    "        # reng = 0\n",
    "        xobsreng = np.asarray(xmat)[reng]\n",
    "        yobsreng = np.asarray(yvec)[reng]\n",
    "        # costo\n",
    "        vx = ws[0] + np.sum(xobsreng*np.asarray(ws[1:]))\n",
    "        # perceptron\n",
    "        gxact = 0\n",
    "        if vx > 0:\n",
    "            gxact = 1\n",
    "        # error\n",
    "        error = (yobsreng - gxact)\n",
    "        # actualización de ws\n",
    "        ws[0] = ws[0] + nu*error*1 \n",
    "        for i in range(len(ws)-1):\n",
    "            ws[i+1] = ws[i+1] + nu*error*xobsreng[i]\n",
    "    return ws\n",
    "\n",
    "def MseEstMult(wsact, xmat, yvec):\n",
    "    yfit = wsact[0] + np.dot(np.asarray(xmat), wsact[1:])\n",
    "    gx = []\n",
    "    for reng in range(len(yfit)):\n",
    "        gxv = 0\n",
    "        if yfit[reng] > 0:\n",
    "            gxv = 1\n",
    "        gx.append(gxv)\n",
    "    mse = np.sum(yvec - gx)\n",
    "    return mse\n",
    "\n",
    "def LinRegrPercepMult(wsinit, yvec, xmat, nuval):\n",
    "    wsent = WsEntMult(wsinit = wsinit, \n",
    "                nu = nuval, \n",
    "                yvec = yvec, \n",
    "                xmat = xmat)\n",
    "    error = MseEstMult(wsact = wsent, xmat = xmat, yvec = yvec)\n",
    "    return wsent, error\n",
    "\n",
    "def FitgxMult(ws, xmat):\n",
    "    fity = []\n",
    "    gxfit = ws[0] + np.dot(np.asarray(xmat), ws[1:])\n",
    "    for i in range(len(gxfit)):\n",
    "        act = 0\n",
    "        if gxfit[i] > 0:\n",
    "            act = 1\n",
    "        fity.append(act)\n",
    "    return fity"
   ]
  },
  {
   "cell_type": "code",
   "execution_count": 42,
   "metadata": {
    "collapsed": false
   },
   "outputs": [],
   "source": [
    "wslist = [[1.0, 1.0, 1.0]]\n",
    "errorlist = [0]\n",
    "sumfitlist = [0]\n",
    "for val in range(100+1)[1:]:\n",
    "    resand = LinRegrPercepMult(wsinit = wslist[val-1] , \n",
    "                         yvec = np.array(dfand[dfand.columns[2]]), \n",
    "                         xmat = np.array(dfand[dfand.columns[:2]]),\n",
    "                         nuval = .1)\n",
    "    fitval = FitgxMult(ws = resand[0], \n",
    "                       xmat = np.array(dfand[dfand.columns[:2]]) )\n",
    "    sumfitval = np.sum(fitval != np.array(dfand[dfand.columns[2]]) )\n",
    "    wslist.append(resand[0])\n",
    "    errorlist.append(resand[1])\n",
    "    sumfitlist.append(sumfitval)"
   ]
  },
  {
   "cell_type": "code",
   "execution_count": 43,
   "metadata": {
    "collapsed": false
   },
   "outputs": [],
   "source": [
    "fit_and = FitgxMult(ws = wslist[len(wslist[1:])], \n",
    "                      xmat = np.array(dfand[dfand.columns[:2]]) )"
   ]
  },
  {
   "cell_type": "code",
   "execution_count": 44,
   "metadata": {
    "collapsed": false
   },
   "outputs": [
    {
     "data": {
      "text/plain": [
       "array([[3, 0],\n",
       "       [0, 1]])"
      ]
     },
     "execution_count": 44,
     "metadata": {},
     "output_type": "execute_result"
    }
   ],
   "source": [
    "confusion_matrix(np.array(dfand[dfand.columns[2]]), \n",
    "                 fit_and)"
   ]
  },
  {
   "cell_type": "code",
   "execution_count": 45,
   "metadata": {
    "collapsed": false
   },
   "outputs": [
    {
     "data": {
      "text/plain": [
       "<matplotlib.text.Text at 0x11ab656d0>"
      ]
     },
     "execution_count": 45,
     "metadata": {},
     "output_type": "execute_result"
    },
    {
     "data": {
      "image/png": "[encoded data removed]",
      "text/plain": [
       "<matplotlib.figure.Figure at 0x11ab30310>"
      ]
     },
     "metadata": {},
     "output_type": "display_data"
    }
   ],
   "source": [
    "plt.plot(sumfitlist)\n",
    "plt.ylabel('Misclassified')\n",
    "plt.xlabel('Iteraciones')"
   ]
  },
  {
   "cell_type": "code",
   "execution_count": 46,
   "metadata": {
    "collapsed": false
   },
   "outputs": [],
   "source": [
    "ws = wslist[len(wslist[1:])]\n",
    "m=((ws[0]/ws[2]))/((-ws[0]/ws[1]))"
   ]
  },
  {
   "cell_type": "code",
   "execution_count": 67,
   "metadata": {
    "collapsed": false
   },
   "outputs": [
    {
     "data": {
      "text/plain": [
       "<matplotlib.text.Text at 0x11ba8d690>"
      ]
     },
     "execution_count": 67,
     "metadata": {},
     "output_type": "execute_result"
    },
    {
     "data": {
      "image/png": "[encoded data removed]",
      "text/plain": [
       "<matplotlib.figure.Figure at 0x11b6044d0>"
      ]
     },
     "metadata": {},
     "output_type": "display_data"
    }
   ],
   "source": [
    "plt.scatter(dfand[dfand.columns[0]], dfand[dfand.columns[1]])\n",
    "x2 = np.linspace(-1,2,100) # 100 numeros espaciados\n",
    "plt.plot(x2,-ws[0]/ws[2]+m*x2,color='red')\n",
    "plt.xlabel(\"Obs\")\n",
    "plt.ylabel(\"Fit\")"
   ]
  },
  {
   "cell_type": "code",
   "execution_count": null,
   "metadata": {
    "collapsed": true
   },
   "outputs": [],
   "source": []
  }
 ],
 "metadata": {
  "anaconda-cloud": {},
  "kernelspec": {
   "display_name": "Python [conda root]",
   "language": "python",
   "name": "conda-root-py"
  },
  "language_info": {
   "codemirror_mode": {
    "name": "ipython",
    "version": 2
   },
   "file_extension": ".py",
   "mimetype": "text/x-python",
   "name": "python",
   "nbconvert_exporter": "python",
   "pygments_lexer": "ipython2",
   "version": "2.7.12"
  }
 },
 "nbformat": 4,
 "nbformat_minor": 0
}
