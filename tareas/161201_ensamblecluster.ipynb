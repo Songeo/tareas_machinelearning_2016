{
 "cells": [
  {
   "cell_type": "markdown",
   "metadata": {},
   "source": [
    "# Tarea: Ensamble y Clustering\n",
    "---\n",
    "\n",
    "1 de Diciembre de 2016"
   ]
  },
  {
   "cell_type": "code",
   "execution_count": 232,
   "metadata": {
    "collapsed": false
   },
   "outputs": [],
   "source": [
    "from sklearn.tree import DecisionTreeClassifier\n",
    "from sklearn.ensemble import AdaBoostClassifier, RandomForestClassifier\n",
    "from sklearn.cluster import KMeans\n",
    "from sklearn import tree\n",
    "\n",
    "from sklearn.cross_validation import train_test_split\n",
    "from sklearn import preprocessing, svm\n",
    "from sklearn.metrics import confusion_matrix\n",
    "import sklearn.metrics as mtrcs\n",
    "\n",
    "import matplotlib.pyplot as plt\n",
    "%matplotlib inline\n",
    "import pandas as pda\n",
    "import numpy as np"
   ]
  },
  {
   "cell_type": "code",
   "execution_count": null,
   "metadata": {
    "collapsed": true
   },
   "outputs": [],
   "source": []
  },
  {
   "cell_type": "code",
   "execution_count": 233,
   "metadata": {
    "collapsed": false
   },
   "outputs": [
    {
     "data": {
      "text/html": [
       "<div>\n",
       "<table border=\"1\" class=\"dataframe\">\n",
       "  <thead>\n",
       "    <tr style=\"text-align: right;\">\n",
       "      <th></th>\n",
       "      <th>0</th>\n",
       "      <th>1</th>\n",
       "      <th>2</th>\n",
       "      <th>3</th>\n",
       "      <th>4</th>\n",
       "      <th>5</th>\n",
       "      <th>6</th>\n",
       "      <th>7</th>\n",
       "      <th>8</th>\n",
       "    </tr>\n",
       "  </thead>\n",
       "  <tbody>\n",
       "    <tr>\n",
       "      <th>0</th>\n",
       "      <td>M</td>\n",
       "      <td>0.455</td>\n",
       "      <td>0.365</td>\n",
       "      <td>0.095</td>\n",
       "      <td>0.5140</td>\n",
       "      <td>0.2245</td>\n",
       "      <td>0.1010</td>\n",
       "      <td>0.150</td>\n",
       "      <td>15</td>\n",
       "    </tr>\n",
       "    <tr>\n",
       "      <th>1</th>\n",
       "      <td>M</td>\n",
       "      <td>0.350</td>\n",
       "      <td>0.265</td>\n",
       "      <td>0.090</td>\n",
       "      <td>0.2255</td>\n",
       "      <td>0.0995</td>\n",
       "      <td>0.0485</td>\n",
       "      <td>0.070</td>\n",
       "      <td>7</td>\n",
       "    </tr>\n",
       "    <tr>\n",
       "      <th>2</th>\n",
       "      <td>F</td>\n",
       "      <td>0.530</td>\n",
       "      <td>0.420</td>\n",
       "      <td>0.135</td>\n",
       "      <td>0.6770</td>\n",
       "      <td>0.2565</td>\n",
       "      <td>0.1415</td>\n",
       "      <td>0.210</td>\n",
       "      <td>9</td>\n",
       "    </tr>\n",
       "    <tr>\n",
       "      <th>3</th>\n",
       "      <td>M</td>\n",
       "      <td>0.440</td>\n",
       "      <td>0.365</td>\n",
       "      <td>0.125</td>\n",
       "      <td>0.5160</td>\n",
       "      <td>0.2155</td>\n",
       "      <td>0.1140</td>\n",
       "      <td>0.155</td>\n",
       "      <td>10</td>\n",
       "    </tr>\n",
       "    <tr>\n",
       "      <th>4</th>\n",
       "      <td>I</td>\n",
       "      <td>0.330</td>\n",
       "      <td>0.255</td>\n",
       "      <td>0.080</td>\n",
       "      <td>0.2050</td>\n",
       "      <td>0.0895</td>\n",
       "      <td>0.0395</td>\n",
       "      <td>0.055</td>\n",
       "      <td>7</td>\n",
       "    </tr>\n",
       "  </tbody>\n",
       "</table>\n",
       "</div>"
      ],
      "text/plain": [
       "   0      1      2      3       4       5       6      7   8\n",
       "0  M  0.455  0.365  0.095  0.5140  0.2245  0.1010  0.150  15\n",
       "1  M  0.350  0.265  0.090  0.2255  0.0995  0.0485  0.070   7\n",
       "2  F  0.530  0.420  0.135  0.6770  0.2565  0.1415  0.210   9\n",
       "3  M  0.440  0.365  0.125  0.5160  0.2155  0.1140  0.155  10\n",
       "4  I  0.330  0.255  0.080  0.2050  0.0895  0.0395  0.055   7"
      ]
     },
     "execution_count": 233,
     "metadata": {},
     "output_type": "execute_result"
    }
   ],
   "source": [
    "link = \"http://archive.ics.uci.edu/ml/machine-learning-databases/abalone/abalone.data\"\n",
    "abalone = pda.read_table(link, sep=',', header=None)\n",
    "abalone.head()"
   ]
  },
  {
   "cell_type": "code",
   "execution_count": 234,
   "metadata": {
    "collapsed": true
   },
   "outputs": [],
   "source": [
    "x1 = abalone[abalone.columns[1:]]\n",
    "y1 = abalone[abalone.columns[0]]"
   ]
  },
  {
   "cell_type": "code",
   "execution_count": 235,
   "metadata": {
    "collapsed": false
   },
   "outputs": [],
   "source": [
    "y1num = pda.Categorical.from_array(y1).codes"
   ]
  },
  {
   "cell_type": "code",
   "execution_count": 236,
   "metadata": {
    "collapsed": false
   },
   "outputs": [
    {
     "name": "stdout",
     "output_type": "stream",
     "text": [
      "(4177,)\n",
      "(4177,)\n"
     ]
    }
   ],
   "source": [
    "print y1num.shape\n",
    "print y1.shape"
   ]
  },
  {
   "cell_type": "code",
   "execution_count": 237,
   "metadata": {
    "collapsed": false
   },
   "outputs": [],
   "source": [
    "x1_train, x1_test, y1_train, y1_test = train_test_split(x1, y1num, train_size=0.75)"
   ]
  },
  {
   "cell_type": "code",
   "execution_count": 238,
   "metadata": {
    "collapsed": false
   },
   "outputs": [
    {
     "data": {
      "text/html": [
       "<div>\n",
       "<table border=\"1\" class=\"dataframe\">\n",
       "  <thead>\n",
       "    <tr style=\"text-align: right;\">\n",
       "      <th></th>\n",
       "      <th>1</th>\n",
       "      <th>2</th>\n",
       "      <th>3</th>\n",
       "      <th>4</th>\n",
       "      <th>5</th>\n",
       "      <th>6</th>\n",
       "      <th>7</th>\n",
       "      <th>8</th>\n",
       "    </tr>\n",
       "  </thead>\n",
       "  <tbody>\n",
       "    <tr>\n",
       "      <th>2714</th>\n",
       "      <td>0.290</td>\n",
       "      <td>0.215</td>\n",
       "      <td>0.065</td>\n",
       "      <td>0.0985</td>\n",
       "      <td>0.0425</td>\n",
       "      <td>0.0210</td>\n",
       "      <td>0.0310</td>\n",
       "      <td>5</td>\n",
       "    </tr>\n",
       "    <tr>\n",
       "      <th>3523</th>\n",
       "      <td>0.260</td>\n",
       "      <td>0.205</td>\n",
       "      <td>0.070</td>\n",
       "      <td>0.0970</td>\n",
       "      <td>0.0415</td>\n",
       "      <td>0.0190</td>\n",
       "      <td>0.0305</td>\n",
       "      <td>4</td>\n",
       "    </tr>\n",
       "    <tr>\n",
       "      <th>700</th>\n",
       "      <td>0.385</td>\n",
       "      <td>0.285</td>\n",
       "      <td>0.105</td>\n",
       "      <td>0.2905</td>\n",
       "      <td>0.1215</td>\n",
       "      <td>0.0685</td>\n",
       "      <td>0.0875</td>\n",
       "      <td>12</td>\n",
       "    </tr>\n",
       "    <tr>\n",
       "      <th>4134</th>\n",
       "      <td>0.595</td>\n",
       "      <td>0.455</td>\n",
       "      <td>0.140</td>\n",
       "      <td>0.9140</td>\n",
       "      <td>0.3895</td>\n",
       "      <td>0.2225</td>\n",
       "      <td>0.2710</td>\n",
       "      <td>9</td>\n",
       "    </tr>\n",
       "    <tr>\n",
       "      <th>453</th>\n",
       "      <td>0.565</td>\n",
       "      <td>0.490</td>\n",
       "      <td>0.155</td>\n",
       "      <td>0.9245</td>\n",
       "      <td>0.4050</td>\n",
       "      <td>0.2195</td>\n",
       "      <td>0.2550</td>\n",
       "      <td>11</td>\n",
       "    </tr>\n",
       "  </tbody>\n",
       "</table>\n",
       "</div>"
      ],
      "text/plain": [
       "          1      2      3       4       5       6       7   8\n",
       "2714  0.290  0.215  0.065  0.0985  0.0425  0.0210  0.0310   5\n",
       "3523  0.260  0.205  0.070  0.0970  0.0415  0.0190  0.0305   4\n",
       "700   0.385  0.285  0.105  0.2905  0.1215  0.0685  0.0875  12\n",
       "4134  0.595  0.455  0.140  0.9140  0.3895  0.2225  0.2710   9\n",
       "453   0.565  0.490  0.155  0.9245  0.4050  0.2195  0.2550  11"
      ]
     },
     "execution_count": 238,
     "metadata": {},
     "output_type": "execute_result"
    }
   ],
   "source": [
    "x1_train.head()"
   ]
  },
  {
   "cell_type": "code",
   "execution_count": null,
   "metadata": {
    "collapsed": true
   },
   "outputs": [],
   "source": []
  },
  {
   "cell_type": "markdown",
   "metadata": {},
   "source": [
    "### 1. Decision Tree Classifier, Random Forest y Adaboost"
   ]
  },
  {
   "cell_type": "markdown",
   "metadata": {},
   "source": [
    "### Arboles de clasificación"
   ]
  },
  {
   "cell_type": "code",
   "execution_count": 227,
   "metadata": {
    "collapsed": false
   },
   "outputs": [],
   "source": [
    "def arboles(x1_train, y1_train, x1_test, y1_test):\n",
    "    treeclf = tree.DecisionTreeClassifier()\n",
    "    treeclf.fit(x1_train, y1_train)\n",
    "    fit_tree_train = treeclf.predict(x1_train)\n",
    "    fit_tree_test = treeclf.predict(x1_test)\n",
    "\n",
    "    print 'Accuracy train ', mtrcs.accuracy_score(y1_train, fit_tree_train)\n",
    "    print confusion_matrix(y1_train, fit_tree_train)\n",
    "\n",
    "    print 'Accuracy test ', mtrcs.accuracy_score(y1_test, fit_tree_test)\n",
    "    print confusion_matrix(y1_test, fit_tree_test)\n",
    "    \n",
    "    return treeclf"
   ]
  },
  {
   "cell_type": "code",
   "execution_count": 228,
   "metadata": {
    "collapsed": false
   },
   "outputs": [
    {
     "name": "stdout",
     "output_type": "stream",
     "text": [
      "Accuracy train  1.0\n",
      "[[2124    0]\n",
      " [   0 1008]]\n",
      "Accuracy test  0.634449760766\n",
      "[[529 217]\n",
      " [165 134]]\n"
     ]
    }
   ],
   "source": [
    "tree0 = arboles(x1_train = x1_train, y1_train = y1_train == 0, \n",
    "        x1_test = x1_test, y1_test = y1_test == 0)"
   ]
  },
  {
   "cell_type": "code",
   "execution_count": 229,
   "metadata": {
    "collapsed": false
   },
   "outputs": [
    {
     "name": "stdout",
     "output_type": "stream",
     "text": [
      "Accuracy train  1.0\n",
      "[[2141    0]\n",
      " [   0  991]]\n",
      "Accuracy test  0.768421052632\n",
      "[[581 113]\n",
      " [129 222]]\n"
     ]
    }
   ],
   "source": [
    "tree1 = arboles(x1_train = x1_train, y1_train = y1_train == 1, \n",
    "        x1_test = x1_test, y1_test = y1_test == 1)"
   ]
  },
  {
   "cell_type": "code",
   "execution_count": 230,
   "metadata": {
    "collapsed": false
   },
   "outputs": [
    {
     "name": "stdout",
     "output_type": "stream",
     "text": [
      "Accuracy train  1.0\n",
      "[[1999    0]\n",
      " [   0 1133]]\n",
      "Accuracy test  0.594258373206\n",
      "[[438 212]\n",
      " [212 183]]\n"
     ]
    }
   ],
   "source": [
    "tree2 = arboles(x1_train = x1_train, y1_train = y1_train == 2, \n",
    "        x1_test = x1_test, y1_test = y1_test == 2)"
   ]
  },
  {
   "cell_type": "code",
   "execution_count": 231,
   "metadata": {
    "collapsed": false
   },
   "outputs": [
    {
     "name": "stdout",
     "output_type": "stream",
     "text": [
      "Accuracy train  1.0\n",
      "[[1008    0    0]\n",
      " [   0  991    0]\n",
      " [   0    0 1133]]\n",
      "Accuracy test  0.490909090909\n",
      "[[122  42 135]\n",
      " [ 57 213  81]\n",
      " [150  67 178]]\n"
     ]
    }
   ],
   "source": [
    "tree3 = arboles(x1_train = x1_train, y1_train = y1_train, \n",
    "        x1_test = x1_test, y1_test = y1_test)"
   ]
  },
  {
   "cell_type": "code",
   "execution_count": null,
   "metadata": {
    "collapsed": true
   },
   "outputs": [],
   "source": []
  },
  {
   "cell_type": "code",
   "execution_count": null,
   "metadata": {
    "collapsed": true
   },
   "outputs": [],
   "source": []
  },
  {
   "cell_type": "markdown",
   "metadata": {},
   "source": [
    "### Random Forest"
   ]
  },
  {
   "cell_type": "code",
   "execution_count": 162,
   "metadata": {
    "collapsed": false
   },
   "outputs": [],
   "source": [
    "def bosque(x1_train, y1_train, x1_test, y1_test):\n",
    "    randf = RandomForestClassifier()\n",
    "    randf.fit(x1_train, y1_train)\n",
    "    fit_randf_test = randf.predict(x1_test)\n",
    "    fit_randf_train = randf.predict(x1_train)\n",
    "    \n",
    "    print 'Accuracy train', mtrcs.accuracy_score(y1_train, fit_randf_train)\n",
    "    print confusion_matrix(y1_train, fit_randf_train)\n",
    "    \n",
    "    print 'Accuracy test', mtrcs.accuracy_score(y1_test, fit_randf_test)\n",
    "    print confusion_matrix(y1_test, fit_randf_test)\n",
    "    \n",
    "    return randf"
   ]
  },
  {
   "cell_type": "code",
   "execution_count": 151,
   "metadata": {
    "collapsed": false
   },
   "outputs": [
    {
     "name": "stdout",
     "output_type": "stream",
     "text": [
      "Accuracy train 0.982439335888\n",
      "[[2135    3]\n",
      " [  52  942]]\n",
      "Accuracy test 0.687081339713\n",
      "[[636  96]\n",
      " [231  82]]\n"
     ]
    }
   ],
   "source": [
    "randf0 = bosque(x1_train = x1_train, y1_train = y1_train == 0, \n",
    "        x1_test = x1_test, y1_test = y1_test == 0)"
   ]
  },
  {
   "cell_type": "code",
   "execution_count": 150,
   "metadata": {
    "collapsed": false
   },
   "outputs": [
    {
     "name": "stdout",
     "output_type": "stream",
     "text": [
      "Accuracy train 0.984674329502\n",
      "[[2119    8]\n",
      " [  40  965]]\n",
      "Accuracy test 0.811483253589\n",
      "[[644  64]\n",
      " [133 204]]\n"
     ]
    }
   ],
   "source": [
    "randf1 = bosque(x1_train = x1_train, y1_train = y1_train == 1, \n",
    "        x1_test = x1_test, y1_test = y1_test == 1)"
   ]
  },
  {
   "cell_type": "code",
   "execution_count": 153,
   "metadata": {
    "collapsed": false
   },
   "outputs": [
    {
     "name": "stdout",
     "output_type": "stream",
     "text": [
      "Accuracy train 0.978927203065\n",
      "[[1993    6]\n",
      " [  60 1073]]\n",
      "Accuracy test 0.623923444976\n",
      "[[523 127]\n",
      " [266 129]]\n"
     ]
    }
   ],
   "source": [
    "randf2 = bosque(x1_train = x1_train, y1_train = y1_train == 2, \n",
    "        x1_test = x1_test, y1_test = y1_test == 2)"
   ]
  },
  {
   "cell_type": "code",
   "execution_count": 192,
   "metadata": {
    "collapsed": false
   },
   "outputs": [
    {
     "name": "stdout",
     "output_type": "stream",
     "text": [
      "Accuracy train 0.980842911877\n",
      "[[ 982    5    7]\n",
      " [   6  994    5]\n",
      " [  26   11 1096]]\n",
      "Accuracy test 0.512918660287\n",
      "[[138  41 134]\n",
      " [ 43 237  57]\n",
      " [162  72 161]]\n"
     ]
    }
   ],
   "source": [
    "randf3 = bosque(x1_train = x1_train, y1_train = y1_train, \n",
    "        x1_test = x1_test, y1_test = y1_test)"
   ]
  },
  {
   "cell_type": "code",
   "execution_count": null,
   "metadata": {
    "collapsed": true
   },
   "outputs": [],
   "source": []
  },
  {
   "cell_type": "markdown",
   "metadata": {},
   "source": [
    "### Ada boosting"
   ]
  },
  {
   "cell_type": "code",
   "execution_count": 193,
   "metadata": {
    "collapsed": false
   },
   "outputs": [
    {
     "data": {
      "text/plain": [
       "array([[ 994,    0,    0],\n",
       "       [   0, 1005,    0],\n",
       "       [   0,    0, 1133]])"
      ]
     },
     "execution_count": 193,
     "metadata": {},
     "output_type": "execute_result"
    }
   ],
   "source": [
    "bdt = AdaBoostClassifier(DecisionTreeClassifier(), n_estimators=10)\n",
    "bdt.fit(x1_train, y1_train)\n",
    "fit_bdt_train = bdt.predict(x1_train)\n",
    "confusion_matrix(y1_train, fit_bdt_train)"
   ]
  },
  {
   "cell_type": "code",
   "execution_count": 194,
   "metadata": {
    "collapsed": false
   },
   "outputs": [
    {
     "name": "stdout",
     "output_type": "stream",
     "text": [
      "Accuracy  0.495693779904\n"
     ]
    },
    {
     "data": {
      "text/plain": [
       "array([[129,  47, 137],\n",
       "       [ 60, 204,  73],\n",
       "       [140,  70, 185]])"
      ]
     },
     "execution_count": 194,
     "metadata": {},
     "output_type": "execute_result"
    }
   ],
   "source": [
    "fit_bdt_test = bdt.predict(x1_test)\n",
    "print 'Accuracy ', mtrcs.accuracy_score(y1_test, fit_bdt_test)\n",
    "confusion_matrix(y1_test, fit_bdt_test)"
   ]
  },
  {
   "cell_type": "code",
   "execution_count": null,
   "metadata": {
    "collapsed": true
   },
   "outputs": [],
   "source": []
  },
  {
   "cell_type": "markdown",
   "metadata": {},
   "source": [
    "### 2. Kmeans"
   ]
  },
  {
   "cell_type": "code",
   "execution_count": 239,
   "metadata": {
    "collapsed": false
   },
   "outputs": [
    {
     "data": {
      "text/html": [
       "<div>\n",
       "<table border=\"1\" class=\"dataframe\">\n",
       "  <thead>\n",
       "    <tr style=\"text-align: right;\">\n",
       "      <th></th>\n",
       "      <th>0</th>\n",
       "      <th>1</th>\n",
       "      <th>2</th>\n",
       "      <th>3</th>\n",
       "      <th>4</th>\n",
       "      <th>5</th>\n",
       "      <th>6</th>\n",
       "      <th>7</th>\n",
       "      <th>8</th>\n",
       "    </tr>\n",
       "  </thead>\n",
       "  <tbody>\n",
       "    <tr>\n",
       "      <th>0</th>\n",
       "      <td>M</td>\n",
       "      <td>0.455</td>\n",
       "      <td>0.365</td>\n",
       "      <td>0.095</td>\n",
       "      <td>0.5140</td>\n",
       "      <td>0.2245</td>\n",
       "      <td>0.1010</td>\n",
       "      <td>0.150</td>\n",
       "      <td>15</td>\n",
       "    </tr>\n",
       "    <tr>\n",
       "      <th>1</th>\n",
       "      <td>M</td>\n",
       "      <td>0.350</td>\n",
       "      <td>0.265</td>\n",
       "      <td>0.090</td>\n",
       "      <td>0.2255</td>\n",
       "      <td>0.0995</td>\n",
       "      <td>0.0485</td>\n",
       "      <td>0.070</td>\n",
       "      <td>7</td>\n",
       "    </tr>\n",
       "    <tr>\n",
       "      <th>2</th>\n",
       "      <td>F</td>\n",
       "      <td>0.530</td>\n",
       "      <td>0.420</td>\n",
       "      <td>0.135</td>\n",
       "      <td>0.6770</td>\n",
       "      <td>0.2565</td>\n",
       "      <td>0.1415</td>\n",
       "      <td>0.210</td>\n",
       "      <td>9</td>\n",
       "    </tr>\n",
       "    <tr>\n",
       "      <th>3</th>\n",
       "      <td>M</td>\n",
       "      <td>0.440</td>\n",
       "      <td>0.365</td>\n",
       "      <td>0.125</td>\n",
       "      <td>0.5160</td>\n",
       "      <td>0.2155</td>\n",
       "      <td>0.1140</td>\n",
       "      <td>0.155</td>\n",
       "      <td>10</td>\n",
       "    </tr>\n",
       "    <tr>\n",
       "      <th>4</th>\n",
       "      <td>I</td>\n",
       "      <td>0.330</td>\n",
       "      <td>0.255</td>\n",
       "      <td>0.080</td>\n",
       "      <td>0.2050</td>\n",
       "      <td>0.0895</td>\n",
       "      <td>0.0395</td>\n",
       "      <td>0.055</td>\n",
       "      <td>7</td>\n",
       "    </tr>\n",
       "  </tbody>\n",
       "</table>\n",
       "</div>"
      ],
      "text/plain": [
       "   0      1      2      3       4       5       6      7   8\n",
       "0  M  0.455  0.365  0.095  0.5140  0.2245  0.1010  0.150  15\n",
       "1  M  0.350  0.265  0.090  0.2255  0.0995  0.0485  0.070   7\n",
       "2  F  0.530  0.420  0.135  0.6770  0.2565  0.1415  0.210   9\n",
       "3  M  0.440  0.365  0.125  0.5160  0.2155  0.1140  0.155  10\n",
       "4  I  0.330  0.255  0.080  0.2050  0.0895  0.0395  0.055   7"
      ]
     },
     "execution_count": 239,
     "metadata": {},
     "output_type": "execute_result"
    }
   ],
   "source": [
    "abalone.head()"
   ]
  },
  {
   "cell_type": "code",
   "execution_count": 215,
   "metadata": {
    "collapsed": false
   },
   "outputs": [
    {
     "data": {
      "text/plain": [
       "array([[  0.57176246,   0.44719062,   0.15309971,   0.99602757,\n",
       "          0.43750499,   0.21886921,   0.28186452,  10.43753666],\n",
       "       [  0.58981233,   0.4674933 ,   0.1680563 ,   1.14015952,\n",
       "          0.43202815,   0.24227748,   0.36399196,  16.36461126],\n",
       "       [  0.42225806,   0.32248102,   0.10716319,   0.43655693,\n",
       "          0.1994222 ,   0.09435863,   0.12251328,   6.88804554]])"
      ]
     },
     "execution_count": 215,
     "metadata": {},
     "output_type": "execute_result"
    }
   ],
   "source": [
    "kmeans = KMeans(n_clusters=3, n_init = 10 )\n",
    "kmeans.fit(x1_train)\n",
    "kmeans.cluster_centers_"
   ]
  },
  {
   "cell_type": "code",
   "execution_count": 1,
   "metadata": {
    "collapsed": false
   },
   "outputs": [
    {
     "ename": "NameError",
     "evalue": "name 'kmeans' is not defined",
     "output_type": "error",
     "traceback": [
      "\u001b[0;31m---------------------------------------------------------------------------\u001b[0m",
      "\u001b[0;31mNameError\u001b[0m                                 Traceback (most recent call last)",
      "\u001b[0;32m<ipython-input-1-aa2117ca2427>\u001b[0m in \u001b[0;36m<module>\u001b[0;34m()\u001b[0m\n\u001b[0;32m----> 1\u001b[0;31m \u001b[0mfit_km_train\u001b[0m \u001b[0;34m=\u001b[0m \u001b[0mkmeans\u001b[0m\u001b[0;34m.\u001b[0m\u001b[0mpredict\u001b[0m\u001b[0;34m(\u001b[0m\u001b[0mx1_train\u001b[0m\u001b[0;34m)\u001b[0m\u001b[0;34m\u001b[0m\u001b[0m\n\u001b[0m\u001b[1;32m      2\u001b[0m \u001b[0mfit_km_test\u001b[0m \u001b[0;34m=\u001b[0m \u001b[0mkmeans\u001b[0m\u001b[0;34m.\u001b[0m\u001b[0mpredict\u001b[0m\u001b[0;34m(\u001b[0m\u001b[0mx1_test\u001b[0m\u001b[0;34m)\u001b[0m\u001b[0;34m\u001b[0m\u001b[0m\n",
      "\u001b[0;31mNameError\u001b[0m: name 'kmeans' is not defined"
     ]
    }
   ],
   "source": [
    "fit_km_train = kmeans.predict(x1_train)\n",
    "fit_km_test = kmeans.predict(x1_test)"
   ]
  },
  {
   "cell_type": "code",
   "execution_count": 243,
   "metadata": {
    "collapsed": false
   },
   "outputs": [
    {
     "name": "stdout",
     "output_type": "stream",
     "text": [
      "Accuracy train  0.295019157088\n",
      "[[676 167 144]\n",
      " [273  40 693]\n",
      " [753 178 208]]\n",
      "Accuracy test  0.311004784689\n",
      "[[226  52  42]\n",
      " [ 99   8 229]\n",
      " [253  45  91]]\n"
     ]
    }
   ],
   "source": [
    "fit_km_train = kmeans.predict(x1_train)\n",
    "fit_km_test = kmeans.predict(x1_test)\n",
    "print 'Accuracy train ', mtrcs.accuracy_score(y1_train, fit_km_train)\n",
    "print confusion_matrix(y1_train, fit_km_train)\n",
    "print 'Accuracy test ', mtrcs.accuracy_score(y1_test, fit_km_test)\n",
    "print confusion_matrix(y1_test, fit_km_test)"
   ]
  },
  {
   "cell_type": "code",
   "execution_count": 241,
   "metadata": {
    "collapsed": false
   },
   "outputs": [
    {
     "name": "stdout",
     "output_type": "stream",
     "text": [
      "Accuracy  1.0\n",
      "[[1430    0]\n",
      " [   0 1702]]\n",
      "Accuracy  1.0\n",
      "[[467   0]\n",
      " [  0 578]]\n"
     ]
    }
   ],
   "source": [
    "trclf = tree.DecisionTreeClassifier()\n",
    "trclf0 = trclf.fit(x1_train, fit_km_train == 0)\n",
    "\n",
    "fit_trclf0_train = trclf0.predict(x1_train)\n",
    "fit_trclf0_test = trclf0.predict(x1_test)\n",
    "\n",
    "print 'Accuracy ', mtrcs.accuracy_score(fit_km_train == 0, fit_trclf0_train)\n",
    "print confusion_matrix(fit_km_train == 0, fit_trclf0_train)\n",
    "print 'Accuracy ', mtrcs.accuracy_score(fit_km_test == 0, fit_trclf0_test)\n",
    "print confusion_matrix(fit_km_test == 0, fit_trclf0_test)"
   ]
  },
  {
   "cell_type": "code",
   "execution_count": 242,
   "metadata": {
    "collapsed": false
   },
   "outputs": [
    {
     "name": "stdout",
     "output_type": "stream",
     "text": [
      "Accuracy  1.0\n",
      "[[1430    0]\n",
      " [   0 1702]]\n",
      "Accuracy  0.999043062201\n",
      "[[467   0]\n",
      " [  1 577]]\n"
     ]
    }
   ],
   "source": [
    "randclf = RandomForestClassifier()\n",
    "randclf = randclf.fit(x1_train, fit_km_train == 0)\n",
    "\n",
    "fit_randclf_train = randclf.predict(x1_train)\n",
    "fit_randclf_test = randclf.predict(x1_test)\n",
    "\n",
    "print 'Accuracy ', mtrcs.accuracy_score(fit_km_train == 0, fit_randclf_train)\n",
    "print confusion_matrix(fit_km_train == 0, fit_randclf_train)\n",
    "print 'Accuracy ', mtrcs.accuracy_score(fit_km_test == 0, fit_randclf_test)\n",
    "print confusion_matrix(fit_km_test == 0, fit_randclf_test)"
   ]
  },
  {
   "cell_type": "code",
   "execution_count": null,
   "metadata": {
    "collapsed": true
   },
   "outputs": [],
   "source": []
  }
 ],
 "metadata": {
  "kernelspec": {
   "display_name": "Python 2",
   "language": "python",
   "name": "python2"
  },
  "language_info": {
   "codemirror_mode": {
    "name": "ipython",
    "version": 2
   },
   "file_extension": ".py",
   "mimetype": "text/x-python",
   "name": "python",
   "nbconvert_exporter": "python",
   "pygments_lexer": "ipython2",
   "version": "2.7.12"
  }
 },
 "nbformat": 4,
 "nbformat_minor": 0
}
