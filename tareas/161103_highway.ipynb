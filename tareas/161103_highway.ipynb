{
 "cells": [
  {
   "cell_type": "markdown",
   "metadata": {},
   "source": [
    "# Tarea: Highway \n",
    "## Redes Neuronales \n",
    "\n",
    "---\n",
    "\n",
    "03 de noviembre de 2016"
   ]
  },
  {
   "cell_type": "code",
   "execution_count": 3,
   "metadata": {
    "collapsed": true
   },
   "outputs": [],
   "source": [
    "import pandas as pd\n",
    "import numpy as np\n",
    "import random\n",
    "import matplotlib.pyplot as plt\n",
    "%matplotlib inline\n",
    "import tensorflow as tf"
   ]
  },
  {
   "cell_type": "markdown",
   "metadata": {},
   "source": [
    "Datos"
   ]
  },
  {
   "cell_type": "code",
   "execution_count": 87,
   "metadata": {
    "collapsed": false
   },
   "outputs": [],
   "source": [
    "#dia = csv.excel()\n",
    "df = pd.read_table(\"../datos_clase/carretera4.csv\",sep = \",\", header=None)"
   ]
  },
  {
   "cell_type": "code",
   "execution_count": 88,
   "metadata": {
    "collapsed": false
   },
   "outputs": [
    {
     "name": "stdout",
     "output_type": "stream",
     "text": [
      "(66, 6)\n"
     ]
    },
    {
     "data": {
      "text/html": [
       "<div>\n",
       "<table border=\"1\" class=\"dataframe\">\n",
       "  <thead>\n",
       "    <tr style=\"text-align: right;\">\n",
       "      <th></th>\n",
       "      <th>0</th>\n",
       "      <th>1</th>\n",
       "      <th>2</th>\n",
       "      <th>3</th>\n",
       "      <th>4</th>\n",
       "      <th>5</th>\n",
       "    </tr>\n",
       "  </thead>\n",
       "  <tbody>\n",
       "    <tr>\n",
       "      <th>0</th>\n",
       "      <td>1</td>\n",
       "      <td>0</td>\n",
       "      <td>0</td>\n",
       "      <td>0</td>\n",
       "      <td>0</td>\n",
       "      <td>1</td>\n",
       "    </tr>\n",
       "    <tr>\n",
       "      <th>1</th>\n",
       "      <td>1</td>\n",
       "      <td>1</td>\n",
       "      <td>1</td>\n",
       "      <td>0</td>\n",
       "      <td>0</td>\n",
       "      <td>1</td>\n",
       "    </tr>\n",
       "    <tr>\n",
       "      <th>2</th>\n",
       "      <td>1</td>\n",
       "      <td>0</td>\n",
       "      <td>0</td>\n",
       "      <td>0</td>\n",
       "      <td>1</td>\n",
       "      <td>1</td>\n",
       "    </tr>\n",
       "    <tr>\n",
       "      <th>3</th>\n",
       "      <td>1</td>\n",
       "      <td>1</td>\n",
       "      <td>0</td>\n",
       "      <td>1</td>\n",
       "      <td>0</td>\n",
       "      <td>1</td>\n",
       "    </tr>\n",
       "    <tr>\n",
       "      <th>4</th>\n",
       "      <td>1</td>\n",
       "      <td>0</td>\n",
       "      <td>0</td>\n",
       "      <td>0</td>\n",
       "      <td>0</td>\n",
       "      <td>1</td>\n",
       "    </tr>\n",
       "  </tbody>\n",
       "</table>\n",
       "</div>"
      ],
      "text/plain": [
       "   0  1  2  3  4  5\n",
       "0  1  0  0  0  0  1\n",
       "1  1  1  1  0  0  1\n",
       "2  1  0  0  0  1  1\n",
       "3  1  1  0  1  0  1\n",
       "4  1  0  0  0  0  1"
      ]
     },
     "execution_count": 88,
     "metadata": {},
     "output_type": "execute_result"
    }
   ],
   "source": [
    "print df.shape\n",
    "df.head()"
   ]
  },
  {
   "cell_type": "code",
   "execution_count": null,
   "metadata": {
    "collapsed": true
   },
   "outputs": [],
   "source": []
  },
  {
   "cell_type": "markdown",
   "metadata": {},
   "source": [
    "Simulador carretera"
   ]
  },
  {
   "cell_type": "code",
   "execution_count": 89,
   "metadata": {
    "collapsed": true
   },
   "outputs": [],
   "source": [
    "class HighwaySimulator:\n",
    "\t\"\"\"This class keeps track of the state of the world and is able to sense it\"\"\"\n",
    "\tMAXCRASHES=1000\n",
    "\tdef __init__(self,world,grafica=True):\n",
    "\t\tself.world=world\n",
    "\t\tself.positionY=0\n",
    "\t\tself.positionX=random.randint(1,len(world.columns)-2)\n",
    "\t\tself.trayectoriaX=[self.positionX]\n",
    "\t\tself.trayectoriaY=[self.positionY]\n",
    "\t\tself.crashes=0\n",
    "\t\tself.steps=0\n",
    "\t\tself.out=False\n",
    "\t\tself.graficar=grafica\n",
    "\t\t#graficar\n",
    "\t\tif grafica:\n",
    "\t\t\tl=[(j,world.ix[i,j]*i) for i in range(len(world.index)) for j in range(len(world.columns)) ]\n",
    "\t\t\tl=zip(*l)\n",
    "\t\t\tplt.scatter(l[0],l[1])\n",
    "\t\t\n",
    "\t#returns the values (for now noiseless of the Moore neighborhood) from left to right, top to bottom \n",
    "\tdef sensor(self):\n",
    "\t\toutput=[]\n",
    "\t\tpositionY=self.positionY\n",
    "\t\tpositionX=self.positionX\n",
    "\t\tworld=self.world\n",
    "\t\tif positionY==0:\n",
    "\t\t\toutput= output + [1,1,1] #behind limit\n",
    "\t\telse:\n",
    "\t\t\toutput=output + [df.ix[positionY-1,positionX-1],df.ix[positionY-1,positionX],df.ix[positionY-1,positionX+1] ] #behind\n",
    "\t\toutput=output + [df.ix[positionY,positionX-1],df.ix[positionY,positionX],df.ix[positionY,positionX+1] ] #sides\n",
    "\t\tif positionY==len(world.index)-1: #front boundary\n",
    "\t\t\toutput= output + [1,1,1]\n",
    "\t\telse:\n",
    "\t\t\toutput=output + [df.ix[positionY+1,positionX-1],df.ix[positionY+1,positionX],df.ix[positionY+1,positionX+1] ] #front\n",
    "\t\treturn output\n",
    "\t\t\n",
    "\t###Set an arbitrary position\n",
    "\tdef setPosition(self,x,y):\n",
    "\t\tworld=self.world\n",
    "\t\tif x<=1:\n",
    "\t\t\tself.positionX=1\n",
    "\t\telse:\n",
    "\t\t\tif x >= len(world.columns) -2:\n",
    "\t\t\t\tself.positionX=len(world.columns) -2\n",
    "\t\t\telse:\n",
    "\t\t\t\tself.positionX=x\n",
    "\t\t\n",
    "\t\tif y<=0:\n",
    "\t\t\tself.positionY=0\n",
    "\t\telse:\n",
    "\t\t\tif y >= len(world.index) -1:\n",
    "\t\t\t\tself.positionY=len(world.index) -1\n",
    "\t\t\telse:\n",
    "\t\t\t\tself.positionY=y\n",
    "\t\n",
    "\tdef checkPosition(self,x,y):\n",
    "\t\tworld=self.world\n",
    "\t\tif x<1:\n",
    "\t\t\treturn 0\n",
    "\t\t\n",
    "\t\tif x > len(world.columns) -2:\n",
    "\t\t\treturn 0\n",
    "\t\t\t\t\n",
    "\t\tif y<0:\n",
    "\t\t\treturn 1\n",
    "\t\t\n",
    "\t\tif y >= len(world.index) -1:\n",
    "\t\t\treturn 2\n",
    "\t\tif world.ix[y,x]==0:\n",
    "\t\t\treturn 3\n",
    "\t\telse:\n",
    "\t\t\treturn 0\n",
    "\t###Move\n",
    "\tdef move(self,m):\n",
    "\t\tif self.out:\n",
    "\t\t\tprint \"You are already out\"\n",
    "\t\t\treturn\n",
    "\t\tif self.crashes >= self.MAXCRASHES:\n",
    "\t\t\tprint \"Too many accidents!!!!\"\n",
    "\t\t\treturn\n",
    "\t\tif m=='F':\n",
    "\t\t\tres=self.checkPosition(self.positionX,self.positionY+1)\n",
    "\t\t\tif res==3:\n",
    "\t\t\t\tself.positionY=self.positionY+1\n",
    "\t\t\telif res==2:\n",
    "\t\t\t\tprint 'You are out, congratulations!!'\n",
    "\t\t\t\tself.out=True\n",
    "\t\t\telse:\n",
    "\t\t\t\tprint \"Crash\"\n",
    "\t\t\t\tself.crashes=self.crashes+1\n",
    "\t\tif m=='B':\n",
    "\t\t\tres=self.checkPosition(self.positionX,self.positionY-1)\n",
    "\t\t\tif res==3:\n",
    "\t\t\t\tself.positionY=self.positionY-1\n",
    "\t\t\telse:\n",
    "\t\t\t\tprint \"Crash\"\n",
    "\t\t\t\tself.crashes=self.crashes+1\n",
    "\t\tif m=='R':\n",
    "\t\t\tres=self.checkPosition(self.positionX+1,self.positionY)\n",
    "\t\t\tif res==3:\n",
    "\t\t\t\tself.positionX=self.positionX+1\n",
    "\t\t\telse:\n",
    "\t\t\t\tprint \"Crash\"\n",
    "\t\t\t\tself.crashes=self.crashes+1\n",
    "\t\tif m=='L':\n",
    "\t\t\tres=self.checkPosition(self.positionX-1,self.positionY)\n",
    "\t\t\tif res==3:\n",
    "\t\t\t\tself.positionX=self.positionX-1\n",
    "\t\t\telse:\n",
    "\t\t\t\tprint \"Crash\"\n",
    "\t\t\t\tself.crashes=self.crashes+1\t\n",
    "\t\tif res ==3 and self.graficar:\n",
    "\t\t\tself.trayectoriaX=self.trayectoriaX+[self.positionX]\n",
    "\t\t\tself.trayectoriaY=self.trayectoriaY+[self.positionY]\n",
    "\t\t\tplt.plot(self.trayectoriaX,self.trayectoriaY,color='red')\n",
    "\t\t\n",
    "\t\tself.steps=self.steps+1\t\n"
   ]
  },
  {
   "cell_type": "code",
   "execution_count": 90,
   "metadata": {
    "collapsed": false
   },
   "outputs": [
    {
     "data": {
      "image/png": "[encoded data removed]",
      "text/plain": [
       "<matplotlib.figure.Figure at 0x1387ad9d0>"
      ]
     },
     "metadata": {},
     "output_type": "display_data"
    }
   ],
   "source": [
    " carre=HighwaySimulator(df)"
   ]
  },
  {
   "cell_type": "code",
   "execution_count": 91,
   "metadata": {
    "collapsed": false
   },
   "outputs": [
    {
     "name": "stdout",
     "output_type": "stream",
     "text": [
      "[1, 1, 1, 0, 0, 1, 0, 0, 1]\n",
      "[0, 0, 1, 0, 0, 1, 0, 1, 1]\n"
     ]
    },
    {
     "data": {
      "image/png": "[encoded data removed]",
      "text/plain": [
       "<matplotlib.figure.Figure at 0x116eaa450>"
      ]
     },
     "metadata": {},
     "output_type": "display_data"
    }
   ],
   "source": [
    "print carre.sensor()\n",
    "carre.move('F')\n",
    "print carre.sensor()"
   ]
  },
  {
   "cell_type": "markdown",
   "metadata": {},
   "source": [
    "Preparación de Datos para entrenamiento"
   ]
  },
  {
   "cell_type": "code",
   "execution_count": 92,
   "metadata": {
    "collapsed": false
   },
   "outputs": [
    {
     "data": {
      "text/plain": [
       "[[0, 0, 0, 0, 0, 0, 0, 0, 0],\n",
       " [0, 0, 0, 0, 0, 0, 0, 0, 1],\n",
       " [0, 0, 0, 0, 0, 0, 0, 1, 0],\n",
       " [0, 0, 0, 0, 0, 0, 0, 1, 1],\n",
       " [0, 0, 0, 0, 0, 1, 0, 0, 0]]"
      ]
     },
     "execution_count": 92,
     "metadata": {},
     "output_type": "execute_result"
    }
   ],
   "source": [
    "# Input de red\n",
    "def per(n):\n",
    "    vec =[]\n",
    "    for i in range(1<<n):\n",
    "        s=bin(i)[2:]\n",
    "        s='0'*(n-len(s))+s\n",
    "        aux = map(int,list(s))\n",
    "        #aux2 = np.concatenate(aux[0:3], 0, aux[6:9])\n",
    "        aux2 = aux[0:6] + [0]+ aux[6:10]\n",
    "        vec.append(aux2)\n",
    "        #print map(int,list(s))\n",
    "    return vec\n",
    "ss = per(8)\n",
    "ss[:5]"
   ]
  },
  {
   "cell_type": "code",
   "execution_count": 93,
   "metadata": {
    "collapsed": false
   },
   "outputs": [],
   "source": [
    "# Salida por permutacion\n",
    "def ys(sens):\n",
    "    if sens[7]==0:\n",
    "        # posiciones: F, B, L, R\n",
    "        y = [1,0,0,0]\n",
    "        return y\n",
    "    elif sens[3]+sens[5] == 0:\n",
    "        if random.choice([True,False]):\n",
    "            y = [0,0,1,0]\n",
    "            return y\n",
    "        else:\n",
    "            y = [0,0,0,1]\n",
    "            return y\n",
    "    elif sens[3] == 0:\n",
    "        y = [0,0,1,0]\n",
    "        return y\n",
    "    elif sens[5] ==0:\n",
    "        y = [0,0,0,1]\n",
    "        return y\n",
    "    elif sens[1]==0:\n",
    "        y = [0,1,0,0]\n",
    "        return y"
   ]
  },
  {
   "cell_type": "code",
   "execution_count": 94,
   "metadata": {
    "collapsed": false
   },
   "outputs": [],
   "source": [
    "# Excluir casos sin salida\n",
    "yt = [ys(x) for x in ss]\n",
    "buenos = [x for x in range(len(yt)) if yt[x] != None]\n",
    "yt = [yt[x] for x in buenos]\n",
    "xt = [ss[x] for x in buenos]"
   ]
  },
  {
   "cell_type": "code",
   "execution_count": 95,
   "metadata": {
    "collapsed": true
   },
   "outputs": [],
   "source": [
    "# · Definición de Red\n",
    "input_size = 9\n",
    "hdn_layer = 9\n",
    "output_layer = 4\n",
    "\n",
    "# Definición de layers\n",
    "x = tf.placeholder(tf.float32, [None, input_size])\n",
    "y_ = tf.placeholder(tf.float32, [None, output_layer]) # la y real\n",
    "\n",
    "W_layer1 = tf.Variable(tf.random_uniform([input_size, hdn_layer], -1, 1), \n",
    "                       name = \"W_layer1\")\n",
    "b_layer1 = tf.Variable(tf.zeros([hdn_layer]), \n",
    "                       name = \"b_layer1\")\n",
    "\n",
    "W_layer2 = tf.Variable(tf.random_uniform([hdn_layer, output_layer], -1, 1), \n",
    "                       name = \"W_layer2\")\n",
    "b_layer2 = tf.Variable(tf.zeros([output_layer]), \n",
    "                       name = \"b_layer2\")\n",
    "\n",
    "# Modelo\n",
    "hdn = tf.nn.sigmoid( tf.matmul(x,W_layer1) + b_layer1)\n",
    "y = tf.nn.sigmoid( tf.matmul(hdn,W_layer2) + b_layer2) \n",
    "\n",
    "# Función de pérdida \n",
    "# cuadrática\n",
    "#lossfn = tf.reduce_mean( tf.reduce_sum((y_ - y)**2) )\n",
    "# entropía\n",
    "lossfn= tf.reduce_mean(( (y_ * tf.log(y)) +  \n",
    "                        ((1 - y_) * tf.log(1.0 - y)) ) * -1) \n",
    "\n",
    "# Algoritmo de entrenamiento\n",
    "train_step = tf.train.GradientDescentOptimizer(.01).minimize(lossfn)"
   ]
  },
  {
   "cell_type": "code",
   "execution_count": 96,
   "metadata": {
    "collapsed": true
   },
   "outputs": [],
   "source": [
    "# Entrenamiento de red\n",
    "init = tf.initialize_all_variables()\n",
    "sess = tf.Session() # tipo de sesion, puede ser interactiva\n",
    "sess.run(init)\n",
    "for i in range(30000):\n",
    "  sess.run(train_step, feed_dict={x: xt, y_: yt})"
   ]
  },
  {
   "cell_type": "code",
   "execution_count": 97,
   "metadata": {
    "collapsed": false
   },
   "outputs": [
    {
     "name": "stdout",
     "output_type": "stream",
     "text": [
      "0.945833\n"
     ]
    }
   ],
   "source": [
    "# Accuracy\n",
    "correct_prediction = tf.equal(tf.round(y),y_) # aca estams definiendo otras operacioes\n",
    "accuracy = tf.reduce_mean(tf.cast(correct_prediction, tf.float32))\n",
    "print(sess.run(accuracy, feed_dict={x: xt, y_: yt})) # las corremos"
   ]
  },
  {
   "cell_type": "code",
   "execution_count": 98,
   "metadata": {
    "collapsed": false
   },
   "outputs": [
    {
     "name": "stdout",
     "output_type": "stream",
     "text": [
      "[[1, 0, 0, 0], [1, 0, 0, 0], [0, 0, 0, 1]]\n",
      "[[ 0.95306355  0.01625905  0.01413293  0.03858689]\n",
      " [ 0.95445383  0.01643498  0.01155653  0.04246777]\n",
      " [ 0.02793551  0.12408105  0.22981644  0.56006438]]\n"
     ]
    }
   ],
   "source": [
    "# Predicción \n",
    "# F,B,L,R\n",
    "output_guess = sess.run(y, feed_dict={x: xt, y_: yt})\n",
    "print( yt[200:203] )\n",
    "print( output_guess[200:203] )"
   ]
  },
  {
   "cell_type": "code",
   "execution_count": 99,
   "metadata": {
    "collapsed": true
   },
   "outputs": [],
   "source": [
    "# Función de posición: \"F\", \"B\", \"L\", \"R\"\n",
    "def NextStep(listin):\n",
    "    goto = \"\"\n",
    "    if listin == [1, 0, 0, 0] or listin == 0:\n",
    "        goto = \"F\"\n",
    "    elif listin == [0, 1, 0, 0] or listin == 1:\n",
    "        goto = \"B\"\n",
    "    elif listin == [0, 0, 1, 0] or listin == 2:\n",
    "        goto = \"L\"\n",
    "    elif listin == [0, 0, 0, 1] or listin == 3:\n",
    "        goto = \"R\"\n",
    "    else:\n",
    "        goto = \"weird!\"\n",
    "    return goto\n",
    "\n",
    "# Función de Lista\n",
    "def GetPosVec(numin):\n",
    "    outout = \"\"\n",
    "    if numin == 0:\n",
    "        outout = [1, 0, 0, 0]\n",
    "    elif numin == 1:\n",
    "        outout = [0, 1, 0, 0]\n",
    "    elif numin == 2:\n",
    "        outout = [0, 0, 1, 0]\n",
    "    elif numin == 3:\n",
    "        outout = [0, 0, 0, 1]\n",
    "    else:\n",
    "        outout = \"weird!\"\n",
    "    return outout"
   ]
  },
  {
   "cell_type": "markdown",
   "metadata": {},
   "source": [
    "Avance en Simulador dado red"
   ]
  },
  {
   "cell_type": "code",
   "execution_count": 100,
   "metadata": {
    "collapsed": false
   },
   "outputs": [
    {
     "name": "stdout",
     "output_type": "stream",
     "text": [
      "el número de crashes fue:  0\n"
     ]
    },
    {
     "data": {
      "image/png": "[encoded data removed]",
      "text/plain": [
       "<matplotlib.figure.Figure at 0x165d7b090>"
      ]
     },
     "metadata": {},
     "output_type": "display_data"
    }
   ],
   "source": [
    "carre = HighwaySimulator(df)\n",
    "cuentav = 0\n",
    "cuentamoves = 0\n",
    "while cuentav < 67 and cuentamoves < 1000: # el número de renglones que tenga la red\n",
    "    x1 = carre.sensor()\n",
    "    # predicción de la red dado posición\n",
    "    predprobs = sess.run(y, feed_dict={x: [x1], y_: [ys(x1)]})\n",
    "    # lista según prob máxima\n",
    "    listmove = GetPosVec(predprobs[0].argmax())\n",
    "    # siguiente movimiento\n",
    "    nextmove = NextStep(listmove)\n",
    "    # ojo con cuenta si va de reversa\n",
    "    if nextmove == \"F\":\n",
    "        cuentav = cuentav + 1\n",
    "    elif nextmove == \"B\":\n",
    "        cuentav = cuentav - 1\n",
    "    carre.move(nextmove)\n",
    "    cuentamoves = cuentamoves + 1\n",
    "print \"el número de crashes fue: \", carre.crashes"
   ]
  },
  {
   "cell_type": "code",
   "execution_count": 101,
   "metadata": {
    "collapsed": false
   },
   "outputs": [
    {
     "name": "stdout",
     "output_type": "stream",
     "text": [
      "4\n",
      "1000\n",
      "2\n",
      "4\n"
     ]
    }
   ],
   "source": [
    "print cuentav\n",
    "print cuentamoves\n",
    "print carre.positionX\n",
    "print carre.positionY"
   ]
  },
  {
   "cell_type": "code",
   "execution_count": 102,
   "metadata": {
    "collapsed": false
   },
   "outputs": [
    {
     "name": "stdout",
     "output_type": "stream",
     "text": [
      "[1, 1, 1, 0, 0, 0, 1, 1, 0]\n"
     ]
    },
    {
     "data": {
      "text/plain": [
       "2"
      ]
     },
     "execution_count": 102,
     "metadata": {},
     "output_type": "execute_result"
    },
    {
     "data": {
      "image/png": "[encoded data removed]",
      "text/plain": [
       "<matplotlib.figure.Figure at 0x1252b5f90>"
      ]
     },
     "metadata": {},
     "output_type": "display_data"
    }
   ],
   "source": [
    "carre = HighwaySimulator(df)\n",
    "print carre.sensor()\n",
    "carre.positionX"
   ]
  },
  {
   "cell_type": "code",
   "execution_count": null,
   "metadata": {
    "collapsed": true
   },
   "outputs": [],
   "source": []
  },
  {
   "cell_type": "code",
   "execution_count": null,
   "metadata": {
    "collapsed": true
   },
   "outputs": [],
   "source": []
  },
  {
   "cell_type": "code",
   "execution_count": null,
   "metadata": {
    "collapsed": true
   },
   "outputs": [],
   "source": []
  }
 ],
 "metadata": {
  "anaconda-cloud": {},
  "kernelspec": {
   "display_name": "Python 2",
   "language": "python",
   "name": "python2"
  },
  "language_info": {
   "codemirror_mode": {
    "name": "ipython",
    "version": 2
   },
   "file_extension": ".py",
   "mimetype": "text/x-python",
   "name": "python",
   "nbconvert_exporter": "python",
   "pygments_lexer": "ipython2",
   "version": "2.7.12"
  }
 },
 "nbformat": 4,
 "nbformat_minor": 1
}
